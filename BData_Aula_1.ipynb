{
 "cells": [
  {
   "cell_type": "markdown",
   "metadata": {
    "slideshow": {
     "slide_type": "slide"
    }
   },
   "source": [
    "\n",
    "# Big Data\n",
    "---\n",
    "# Aula 1 - Apresentação e  Regras da Unidade Curricular \n",
    "---\n",
    "\n",
    "#### 1º Semestre, 2018/2019\n",
    "\n",
    "\n",
    "nbras@autonoma.pt\n",
    "\n",
    "##### Nuno Brás\n",
    "##### Outubro de 2018\n",
    "\n"
   ]
  },
  {
   "cell_type": "markdown",
   "metadata": {
    "collapsed": true,
    "slideshow": {
     "slide_type": "slide"
    }
   },
   "source": [
    "\n",
    "## Livros:\n",
    "\n",
    "\n",
    "- Mining of Massive Datasets\n",
    "(http://www.mmds.org/)\n",
    "\n",
    "- Mastering Spark 2.0\n",
    "\n",
    "- *Python for Data Analysis, Wes McKinney*, O'Reilly, 2017 http://www3.canisius.edu/~yany/python/Python4DataAnalysis.pdf\n"
   ]
  },
  {
   "cell_type": "markdown",
   "metadata": {
    "slideshow": {
     "slide_type": "slide"
    }
   },
   "source": [
    "# Outra Documentação \n",
    "\n",
    "- Slides Teóricos!\n",
    "- Exercícios Resolvidos em Notebooks Python;\n",
    "- Outras Ajudas dadas ao longo do semestre;\n",
    "- Moodle"
   ]
  },
  {
   "cell_type": "markdown",
   "metadata": {
    "slideshow": {
     "slide_type": "slide"
    }
   },
   "source": [
    "# Portátil\n",
    "\n",
    "\n",
    "Não é obrigatório, mas é fortemente aconselhado;"
   ]
  },
  {
   "cell_type": "markdown",
   "metadata": {
    "slideshow": {
     "slide_type": "slide"
    }
   },
   "source": [
    "# Software a Usar\n",
    "\n",
    "Vamos usar (a instalar até à proxima aula!)\n",
    "\n",
    "Anaconda Versão: anaconda3-4.4.0 \n",
    "\n",
    "Colaboratory: https://colab.research.google.com/notebooks/welcome.ipynb\n",
    "\n",
    "\n",
    "\n"
   ]
  },
  {
   "cell_type": "markdown",
   "metadata": {
    "slideshow": {
     "slide_type": "slide"
    }
   },
   "source": [
    "# Programa da Disciplina\n",
    "\n",
    "\n",
    "---\n",
    "\n",
    "***(Aula 1)***\n",
    "\n",
    "- **Regras da Disciplina**\n",
    "\n",
    "- **Introdução ao Conceito Big Data**\n",
    "    + Definições e contexto\n",
    "    + DataMinig - dos dados às acções\n",
    "\n",
    "---\n",
    "\n",
    "***(Aula 2)***\n",
    "- **Introdução ao Conceito Big Data (Cont.)**\n",
    "    + Problemas Tipo a Resolver em Big Data\n",
    "    + Os algoritmos necessários em várias áreas\n",
    "        - Text Analysis\n",
    "        - Graphs Analysis\n",
    "        - Relational Data\n",
    "        - Data mining & M. Learning\n",
    "        - Streams - Probablistic Data Structures  \n",
    "        \n",
    "        \n",
    "\n",
    "- **Revisão de conceitos de Machine Learning/Data Mining**\n",
    "    + Preprocessing (ELT) types\n",
    "    + Model Types \n",
    "    + Regression Models\n",
    "    + Classification Models\n",
    "    + Model Performance Evaluation and Selection\n",
    "--- \n",
    "    \n",
    "\n",
    "***(Aula 3)***\n",
    "\n",
    "\n",
    "- **Aula Prática**\n",
    "    + Introdução ao python para DataScientists - **Python + Numpy**\n",
    "    \n",
    "\n",
    "- **Algoritmic Concepts Revision and Distributed Computing Challenges**\n",
    "\t+ Simple Algorihtms: Counting Distinct Occorrences; Calculate an Average; \n",
    "    + Bayesian Calculation\n",
    "    + Bonferroni’s Principle\n",
    "\t+ Relational Data\n",
    "\n",
    "---\n",
    "\n",
    "***(Aula 4)***         \n",
    "\n",
    "- **Aula Prática**\n",
    "    + Introdução ao python para DataScientists - **Pandas + SkLearn**\n",
    "    \n",
    "    **TPC 1**\n",
    "    \n",
    "    \n",
    "- **Algoritmic Concepts Revision and Distributed Computing Challenges**\n",
    "    + Graph Based Data - Inverted Indexing\n",
    "    + High Dimensionality Data - Locality Sensitivity Hashing\n",
    "\t+ Data Streamming\n",
    "\t+ DataMining\n",
    "    \n",
    "  \n",
    "\n",
    "---\n",
    "\n",
    "    \n",
    "\n",
    "***(Aula 5)***\n",
    "\n",
    "- **Conceitos Tecnológicos**\n",
    "    + Map-Reduce Concept\n",
    "    + The New Distributed File Systems: Hadoop: HDFS; Google: GFS;\n",
    "    + Spark Resilient Distributed Datasets (RDD) \n",
    "    + DataFrame Concept\n",
    "    + Workflows (Spark)\n",
    "    \n",
    "***(Aula 6)***\n",
    "    \n",
    "- **BigData Algorithms Parte 1**\n",
    "\n",
    "---\n",
    "\n",
    "***(Aula 7)***\n",
    "    \n",
    "- **BigData Algorithms Parte 2**\n",
    "\n",
    "---\n",
    "\n",
    "\n",
    "***(Aula 8)***\n",
    "- **Arcquitecturas de Dados e Sistemas Big Data**\n",
    "    + Batch Processing\n",
    "    + Data Streaming\n",
    "    + Lambda\n",
    "    + Kafka\n",
    "    + Pig \n",
    "    + Hive & SQL\n",
    "    + Spark.ml \n",
    "    + Pipelines    \n",
    "    \n",
    "\n",
    "---\n",
    "\n",
    "***(Aula 9)***\n",
    "- **Teste**\n",
    "\n",
    "    \n",
    "\n",
    "\n",
    "\n",
    "\n",
    "\n",
    "\n",
    "\n",
    "---\n",
    "\n",
    "\n",
    "***(Aula 10)***\n",
    "- **Aula Prática**\n",
    "    + Introdução ao python para DataScientists (cont.)\n",
    "    \n",
    "    **TPC 2**\n",
    "\n",
    "\n",
    "---\n",
    "\n",
    "\n",
    "***(Aula 11)***    \n",
    "- **Aula Prática**\n",
    "    + Introdução ao pyspark.ml\n",
    "    \n",
    "    **TPC 3**\n",
    "\n",
    "\n",
    "---\n",
    "\n",
    "***(Aula 12)***    \n",
    "- **Aula Prática**\n",
    "    + Introdução ao Hadoop\n",
    "    \n",
    "    **TPC 4**\n",
    "\n",
    "---\n",
    "\n",
    "***(Aula 13)***    \n",
    "- **Aula Prática**\n",
    "    + Apoio ao Trabalho final\n",
    "    \n",
    "    **TPC 5**\n",
    "\n",
    "---\n",
    "\n",
    "\n",
    "***(Aula 14)***    \n",
    "- **Aula Prática**\n",
    "    + Apoio ao Trabalho final\n",
    "\n",
    "---\n"
   ]
  },
  {
   "cell_type": "markdown",
   "metadata": {
    "slideshow": {
     "slide_type": "slide"
    }
   },
   "source": [
    "\n",
    "\n",
    "# Avaliação\n",
    "\n",
    "\n",
    "### 1) **Teste Teórico**\n",
    "\n",
    "# 10/12/2017\n",
    "\n",
    "\n",
    "### 2) **Trabalhos ao Longo do Semestre e Trabalho Final**\n",
    "\n",
    "**TPC's adaptados ao tema de cada um**; \n",
    "\n",
    "**A entrega dos trabalhos de casa é feita passado 1 semana;** \n",
    "\n",
    "**Entrega após duas semanas são descontados 25% à nota do TPC; \n",
    "\n",
    "**Entregas após a segunda semana terão que ir a exame.**\n",
    "\n"
   ]
  },
  {
   "cell_type": "markdown",
   "metadata": {},
   "source": [
    "## Regras de Avaliação\n",
    "\n",
    "---\n",
    "\n",
    "### Avaliação Contínua: \n",
    "\n",
    "- Teste (30%) \n",
    "- Trabalhos nas Aulas (20%) + Trabalho Final (50%)   \n",
    "\n",
    "\n",
    "### Modo Exame Final \n",
    "\n",
    "- Exame (50%)\n",
    "- Trabalho Final (50%)\n",
    "- **NESTE CASO** Existe uma apresentação (30 min) com perguntas sobre os trabalhos entregues\n",
    "\n",
    "\n",
    "**Nota Mínima: Teste e Exame > 7.0 Valores**"
   ]
  },
  {
   "cell_type": "markdown",
   "metadata": {
    "slideshow": {
     "slide_type": "slide"
    }
   },
   "source": [
    "# Master Degree vs Bachelor?\n",
    "\n",
    "- Devem aproximar-se da fronteira do conhecimento em áreas que vos interessem;\n",
    "- Qual é essa área para cada umde vós? O que vos agrada? O que vos motiva?\n",
    "- É preciso trabalhar mais sozinhos e assistir a menos aulas;\n",
    "- Devem ser capazes de por vezes surpreender os professores nas unidades curriculares , mais ainda os orientador do trabalho;\n",
    "\n",
    "**Boa sorte a todos!**"
   ]
  },
  {
   "cell_type": "markdown",
   "metadata": {
    "slideshow": {
     "slide_type": "slide"
    }
   },
   "source": [
    "# O que é um Data Scientist?\n",
    "---\n",
    "\n",
    "A person employed to analyse and interpret complex digital data, such as the usage statistics of a website, especially in order to assist a business in its decision-making.\n",
    "\n",
    "##### \"IBM Predicts Demand For Data Scientists Will raise 28% By 2020\"\n",
    "\n",
    "##### \"Glassdoor recently revealed its report highlighting the 50 best jobs in America, and unsurprisingly, data scientist claimed the top spot for the second year in a row .... (2017)\"\n"
   ]
  },
  {
   "cell_type": "markdown",
   "metadata": {
    "slideshow": {
     "slide_type": "slide"
    }
   },
   "source": [
    "##### \"Wired Magazine\"\n",
    "\n",
    "<img src=\"./images/data_scientists_not_doctors.png\" alt=\"Drawing\" style=\"width: 90%;\"/>\n",
    "\n"
   ]
  },
  {
   "cell_type": "markdown",
   "metadata": {
    "slideshow": {
     "slide_type": "slide"
    }
   },
   "source": [
    "# Porquê Tecnologias de Big Data\n",
    "\n",
    "---\n",
    "\n",
    "\n",
    "#### <div style=\"text-align:center\"> A quantidade de dados guardados no mundo explodiu</div>\n",
    "\n",
    "\n",
    "<img src=\"./images/data_in_the_world.png\" style=\"width:60%; margin:auto\"/>"
   ]
  },
  {
   "cell_type": "markdown",
   "metadata": {
    "slideshow": {
     "slide_type": "slide"
    }
   },
   "source": [
    "# O que leva o Data Mining a ser tão importante hoje em dia\n",
    "\n",
    "---\n",
    "\n",
    "#### <div style=\"text-align:center\"> A Riquesa dos dados aumentou significativamente</div>\n",
    "\n",
    "- Browsing information no E-Commerce\n",
    "- Sensores de todo o tipo na Internet of Things (IoT) \n",
    "\n",
    "---\n",
    "<div style=\"text-align:center\"> A diferença entre a quantidade de dados e a quantidade de analistas para os estudar aumentou brutalmente. O custo do trabalho humano faz com que: </div>\n",
    "\n",
    "- A informação escondida não seja trabalhada\n",
    "- Grande parte dos dados nunca seja analisada"
   ]
  },
  {
   "cell_type": "markdown",
   "metadata": {
    "slideshow": {
     "slide_type": "slide"
    }
   },
   "source": [
    "# BigData \n",
    "\n",
    "#### (Starting in English)"
   ]
  },
  {
   "cell_type": "markdown",
   "metadata": {},
   "source": [
    "# Contex and Definition\n",
    "\n",
    "---\n",
    "\n",
    "### Big Data?\n",
    "---   \n",
    "\n",
    "\n",
    "#### “Big” is a moving target. \n",
    "Constructing a threshold for Big Data such as 1 petabyte is meaningless because it makes it sound absolute. Only when the size becomes a challenge is it worth referring to it as “Big.” So it’s a relative term referring to when the size of the data outstrips the state-of-the-art current computational solutions (in terms of memory, storage, complexity, and processing speed) available to han‐ dle it. So in the 1970s this meant something different than it does today.\n",
    "“Big” is when you can’t fit it on one machine. Different individuals and companies have different computational resources available to them, so for a single scientist data is big if she can’t fit it on one machine because she has to learn a whole new host of tools and methods once that happens.\n",
    "\n",
    "#### Big Data is a cultural phenomenon. \n",
    "\n",
    "It describes how much data is part of our lives, precipitated by accelerated advances in technology.\n",
    "\n",
    "#### The 4 Vs: \n",
    "\n",
    "Volume, variety, velocity, and Veracity. Many people are circulating this as a way to characterize Big Data. "
   ]
  },
  {
   "cell_type": "markdown",
   "metadata": {
    "slideshow": {
     "slide_type": "slide"
    }
   },
   "source": [
    "# The 4 V's\n",
    "\n",
    "#### Volume: \n",
    "30000 GB are generated Every Second\n",
    "\n",
    "\n",
    "#### Variety: \n",
    "\n",
    "Data is Diverse - from blog posts, tweets, social interactions, posts, sensor outputs, images, audio, etc.\n",
    "We now Accept messiness in data\n",
    "\n",
    "####  Velocity\n",
    "\n",
    "Data is now Streamed from automatic sources, not just analyzed in batch mode\n",
    "\n",
    "\n",
    "#### Veracity\n",
    "\n",
    "Data also lies..."
   ]
  },
  {
   "cell_type": "markdown",
   "metadata": {},
   "source": [
    "<img src=\"images/4vs.png\" />"
   ]
  },
  {
   "cell_type": "markdown",
   "metadata": {
    "slideshow": {
     "slide_type": "slide"
    }
   },
   "source": [
    "# Techniques towards Big Data\n",
    "\n",
    "### CPU Related\n",
    "\n",
    "- Massive Parallelism\n",
    "- High-Performance Computing\n",
    "- Task and Thread Management\n",
    "\n",
    "### Storage & Networks\n",
    "\n",
    "- Huge Data Volumes Storage\n",
    "- Data Distribution\n",
    "- High-Speed Networks\n",
    "\n",
    "### New, Beter, DataMining Techniques\n",
    "\n",
    "- Better Analytics\n",
    "- Data Transformations\n",
    "- Data Manipulations\n",
    "- Data Retrieval\n",
    "- Better Machine Learning Techniques \n",
    "- Better Data Visualization"
   ]
  },
  {
   "cell_type": "markdown",
   "metadata": {
    "slideshow": {
     "slide_type": "slide"
    }
   },
   "source": [
    "# Why Now?\n",
    "\n",
    "- More data are being collected and stored\n",
    "- Open source code\n",
    "- Commodity hardware / Cloud"
   ]
  },
  {
   "cell_type": "markdown",
   "metadata": {
    "slideshow": {
     "slide_type": "slide"
    }
   },
   "source": [
    "<img src=\"./images/why_now_factors.png\" style=\"width:70%\"/>"
   ]
  },
  {
   "cell_type": "markdown",
   "metadata": {
    "slideshow": {
     "slide_type": "slide"
    }
   },
   "source": [
    "# Back to the Old Days.... (10 Years ago)\n",
    "\n",
    "### Datawarehousing - Abordagem Clássica\n",
    "\n",
    "Os Sistemas de Datawarehousing clássicos são baseados em sistemas relacionais (tipo Relational Database Management Systems - RDBMS), multidimensionais com dados tipicamente arranjados para serem Extraídos, Transformados e Carregados (Loaded) (ETL) num local único e multi-relacionado - o datawarehouse - que faz o papel do \"ponto de verdade\" de toda a empresa. \n",
    "\n",
    "<img src=\"images/etl.png\" style=\"width:70%; margin:auto\"/>\n",
    "\n"
   ]
  },
  {
   "cell_type": "markdown",
   "metadata": {
    "slideshow": {
     "slide_type": "slide"
    }
   },
   "source": [
    "# Today\n",
    "\n",
    "##### Data Lakes for Large Scale Systems with Heterogeneous data structures\n",
    "\n",
    "A Confirmação de que dados não estruturados e BigData também podem ser analisados para gerar informações importantes para as empresas levaram ao conceito de **Data Lake**.\n",
    "\n",
    "Suporta todos os dados de todas as fontes, incluindo Bases de Dados relacionais, ficheiros e dados de redes sociais.\n",
    "\n",
    "Estes Sistemas usam uma abordagem *schema on read* em que estrutura e o esquema de dados são aplicados somente quando os dados são lidos do Data Lake para responder a uma questão de business intelligence ou para outros fins de análise. Por outras palavras, \n",
    "- enquanto um data warehouse funciona através de um processo ETL (extrair, transformar, carregar), \n",
    "- um lago de dados usa ELT  - **E**xtrair, **L**oad e depois, **quando necessário e de acordo com as necessidades**, **T**ransformar\n",
    "\n",
    "<img src=\"./images/ELT.png\" style=\"width:70%; margin:auto\"/>\n"
   ]
  },
  {
   "cell_type": "markdown",
   "metadata": {
    "slideshow": {
     "slide_type": "slide"
    }
   },
   "source": [
    "<img src=\"images/data_mining_intro.png\" style=\"width:30%; margin:auto\"/>"
   ]
  },
  {
   "cell_type": "markdown",
   "metadata": {
    "slideshow": {
     "slide_type": "slide"
    }
   },
   "source": [
    "# Definindo DataMining\n",
    "---\n",
    "\n",
    "\n",
    "## As principais tipos de tarefas do Data Mining são\n",
    "\n",
    "- Métodos de previsão (predictive Methods)\n",
    "    - Usar variáveis para prever valores desconhecidos ou futuros da mesma ou de outras variáveis: \n",
    "\n",
    "    \n",
    "    \n",
    "- Métodos de descrição (descriptive methods)\n",
    "    - Encontrar padrões de interpretação humana que descrevam os dados\n",
    "\n",
    "\n",
    "    \n",
    "    "
   ]
  },
  {
   "cell_type": "markdown",
   "metadata": {
    "slideshow": {
     "slide_type": "slide"
    }
   },
   "source": [
    "# Métodos do Data Mining (usando machine learning)\n",
    "---\n",
    "\n",
    "- **Classification <span style=\"background-color: #EEEEEE\">supervised</span>**: Classificar um exemplar com **uma dada categoria** com base nas suas propriedades (*atributos*)\n",
    "\n",
    "- **Regression <span style=\"background-color: #EEEEEE\">supervised</span>**: Assignar a um exemplar **um valor** com base nas suas propriedades (*atributos*)\n",
    "\n",
    "- **Sequential Pattern Discovery <span style=\"background-color: #EEEEEE\">supervised </span>**: Determinar padrões numa sequência, por exemplo, num conjunto de dados guardados ao longo do tempo ***(não vamos estudar)***\n",
    "\n",
    "- **Deviation Detection <span style=\"background-color: #EEEEEE\">supervised or unsupervised</span>**: Detectar quando algo sai fora da normalidade ***(não vamos estudar)***\n",
    "\n",
    "---\n",
    "\n",
    "- **Clustering <span style=\"background-color: #EEEEEE\">unsupervised</span>**: Agrupar registos ***\"semelhantes\"*** com base nas suas propriedades;\n",
    "\n",
    "- **Association Rule Discovery <span style=\"background-color: #EEEEEE\">unsupervised </span>**: Associar registos a outros, com base no histórico"
   ]
  },
  {
   "cell_type": "markdown",
   "metadata": {
    "slideshow": {
     "slide_type": "slide"
    }
   },
   "source": [
    "# Supervised vs Unsupervised\n",
    "---\n",
    "\n",
    "<img src=\"./images/machine-learning-supervised-vs-unsupervised-learning.png\" style=\"width:50%\"/>\n",
    "\n",
    "\n",
    "#### Supervised Learning:\n",
    "\n",
    "**Composição:** Dataset com registos compostos por Features e Classificações;\n",
    "**Objectivo:** Classificar novos registos com base num modelo aprendido através da análise de registos previamente classificados.\n",
    "\n",
    "#### Unsupervised Learning:\n",
    "\n",
    "**Composição:** Dataset com registos compostos por Features;\n",
    "**Objectivo:** Descobrir Clusters ou regras com base nos dados, sem que existam classes previamente definidas.\n",
    "\n",
    "---\n",
    "\n",
    "\n",
    "**Ainda mais outro exemplo que não vamos trabalhar mas que está muito em voga**\n",
    "\n",
    "> #### Reinforcement learning:\n",
    ">\n",
    "> **Composição:** sequência de estados e ações nas quais o algoritmo de aprendizagem interage com o ambiente e recebe feedback das suas acções;  \n",
    "> **Objectivo:** Aprender iterativamente quais as acções que aumentam o \"score\" da máquina, interagindo com o ambiente\n",
    "\n",
    "\n",
    "> See this! [Link Youtube](https://www.youtube.com/watch?v=xp-YOPcjkFw)"
   ]
  }
 ],
 "metadata": {
  "celltoolbar": "Slideshow",
  "kernelspec": {
   "display_name": "Python 3",
   "language": "python",
   "name": "python3"
  },
  "language_info": {
   "codemirror_mode": {
    "name": "ipython",
    "version": 3
   },
   "file_extension": ".py",
   "mimetype": "text/x-python",
   "name": "python",
   "nbconvert_exporter": "python",
   "pygments_lexer": "ipython3",
   "version": "3.6.0"
  }
 },
 "nbformat": 4,
 "nbformat_minor": 2
}
