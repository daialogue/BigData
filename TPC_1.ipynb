{
 "cells": [
  {
   "cell_type": "markdown",
   "metadata": {},
   "source": [
    "## Trabalho de Casa 1\n",
    "\n",
    "1) Implement in python a function i_index_gen() that given as input a set of documents (an array of strings) returns an  inverted index based. Clean the text from punctuations chars or upper letters. \n",
    "\n",
    "2) Make a second function that returns the same i_index based on a pandas DataFrame without indexes\n",
    "\n",
    "3) Make a third function that returns the same i_index based on a pandas DataFrame using indexes\n",
    "\n",
    "4) Compare the performance for the three methods using ```%%time``` (you should increase your text example) and take your conclusions how lists, DataFrames (with or without indexes) manage searches\n",
    "\n",
    "\n",
    "**Don't forget to**\n",
    "- present all results in a python notebook;\n",
    "- Comment your code;\n",
    "\n",
    "Good Luck"
   ]
  }
 ],
 "metadata": {
  "kernelspec": {
   "display_name": "SADenv",
   "language": "python",
   "name": "sadenv"
  },
  "language_info": {
   "codemirror_mode": {
    "name": "ipython",
    "version": 3
   },
   "file_extension": ".py",
   "mimetype": "text/x-python",
   "name": "python",
   "nbconvert_exporter": "python",
   "pygments_lexer": "ipython3",
   "version": "3.6.0"
  }
 },
 "nbformat": 4,
 "nbformat_minor": 2
}
