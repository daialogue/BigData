{
 "cells": [
  {
   "cell_type": "markdown",
   "metadata": {
    "slideshow": {
     "slide_type": "slide"
    }
   },
   "source": [
    "# Big Data - Aula 4 \n",
    "---\n",
    "\n",
    "# Aula Prática: Python for DataScientists - Pandas + Sklearn\n",
    "\n",
    "# Algoritmic Concepts Revision and Distributed Computing Challenges\n",
    "\n",
    "---"
   ]
  },
  {
   "cell_type": "markdown",
   "metadata": {
    "collapsed": true,
    "slideshow": {
     "slide_type": "slide"
    }
   },
   "source": [
    "# Pandas + SkLearn\n",
    "\n",
    "A Melhor forma é usar a linguagem para resolver um problema real. \n",
    "Vamos carregar dados de um *dataset* de preços de casas na califórnia para determinarmos: \n",
    "\n",
    "- Quantas casas existem abaixo de 200 000 Dollars \n",
    "- Quais os 2 locais onde as casas são mais baratas \n",
    "\n",
    "- Quais os melhores negócios (casas sub valorizadas) - Classificação/Regressão\n",
    "- Quanto valeria uma casa na zona x, para 4 pessoas e com 200 $m^2$ ?  - Regressão\n",
    "\n",
    "\n",
    "(Do conjunto de perguntas em cima, quais são perguntas de DataMining e quais são perguntas exploratórias (queries))\n",
    "\n",
    "<font color='forestgreen'>\n",
    "O dataset que vamos descarregar é do SkLearn, manipula-lo de forma a obter algumas análises exploratórias dos dados (pre-datamining). \n",
    "\n"
   ]
  },
  {
   "cell_type": "markdown",
   "metadata": {
    "slideshow": {
     "slide_type": "slide"
    }
   },
   "source": [
    "## DataSet de Casas"
   ]
  },
  {
   "cell_type": "code",
   "execution_count": null,
   "metadata": {
    "collapsed": true,
    "slideshow": {
     "slide_type": "-"
    }
   },
   "outputs": [],
   "source": [
    "# Start by importing the modules\n",
    "\n",
    "from sklearn import datasets\n",
    "import pandas as pd\n",
    "import numpy as np\n",
    "import matplotlib.pyplot as plt"
   ]
  },
  {
   "cell_type": "code",
   "execution_count": null,
   "metadata": {
    "collapsed": true
   },
   "outputs": [],
   "source": [
    "#import data to variable\n",
    "\n",
    "data = datasets.california_housing.fetch_california_housing()\n",
    "#show disorganized data\n",
    "data"
   ]
  },
  {
   "cell_type": "code",
   "execution_count": null,
   "metadata": {
    "collapsed": true
   },
   "outputs": [],
   "source": [
    "#first, let's print a description\n",
    "print(data.DESCR)\n",
    "\n",
    "#what is this object type?\n",
    "print(type(data.DESCR))"
   ]
  },
  {
   "cell_type": "markdown",
   "metadata": {},
   "source": [
    "O que podemos concluir da descrição das features?\n",
    "\n",
    "Que são médias locais."
   ]
  },
  {
   "cell_type": "code",
   "execution_count": null,
   "metadata": {
    "collapsed": true
   },
   "outputs": [],
   "source": [
    "# Qual a classe dos componentes de data?\n",
    "\n",
    "print(type(data.target))\n",
    "print(type(data.data))\n",
    "\n",
    "data.feature_names"
   ]
  },
  {
   "cell_type": "code",
   "execution_count": null,
   "metadata": {
    "collapsed": true
   },
   "outputs": [],
   "source": [
    "dframe = pd.DataFrame(data=data.data, columns=data.feature_names)\n",
    "dframe.head()"
   ]
  },
  {
   "cell_type": "markdown",
   "metadata": {
    "slideshow": {
     "slide_type": "slide"
    }
   },
   "source": [
    "\n",
    "ou seja, obtemos algo semelhante a um \"excel\""
   ]
  },
  {
   "cell_type": "code",
   "execution_count": null,
   "metadata": {
    "collapsed": true,
    "slideshow": {
     "slide_type": "-"
    }
   },
   "outputs": [],
   "source": [
    "# Quão esparsos são estes dados:\n",
    "\n",
    "plt.figure()\n",
    "plt.title(\"espalhamento geográfico dos dados\")\n",
    "plt.xlabel(\"Latitude\")\n",
    "plt.ylabel(\"Longitude\")\n",
    "plt.grid()\n",
    "plt.axis('equal')\n",
    "plt.plot(dframe.Longitude, dframe.Latitude,  '.', color=\"b\")\n",
    "plt.show()"
   ]
  },
  {
   "cell_type": "markdown",
   "metadata": {},
   "source": [
    "<img src=\"./images/calif.png\" style=\"width:60%; margin-left:0px\"/>"
   ]
  },
  {
   "cell_type": "markdown",
   "metadata": {
    "slideshow": {
     "slide_type": "slide"
    }
   },
   "source": [
    "\n",
    "### Mas faltam os dados dos preços..."
   ]
  },
  {
   "cell_type": "code",
   "execution_count": null,
   "metadata": {
    "collapsed": true
   },
   "outputs": [],
   "source": [
    "print(data.DESCR)"
   ]
  },
  {
   "cell_type": "code",
   "execution_count": null,
   "metadata": {
    "collapsed": true
   },
   "outputs": [],
   "source": [
    "#ah! está no \"target\":\n",
    "print(data.target)\n",
    "\n",
    "data.target.shape"
   ]
  },
  {
   "cell_type": "code",
   "execution_count": null,
   "metadata": {
    "collapsed": true
   },
   "outputs": [],
   "source": [
    "print(data.data.shape)\n",
    "print(data.target.shape)\n",
    "print(data.target.reshape(-1,1).shape)"
   ]
  },
  {
   "cell_type": "code",
   "execution_count": null,
   "metadata": {
    "collapsed": true
   },
   "outputs": [],
   "source": [
    "#porque o s valores estão em centenas de milhares de dollars, multiplicamos por 100 000\n",
    "\n",
    "new_data =np.concatenate((data.data, data.target.reshape(-1,1)*100000), axis=1)\n",
    "\n",
    "print(data.data.shape, new_data.shape)\n",
    "\n",
    "print(type(data.feature_names))\n",
    "#para adicionar um valor a uma lista podmeos usar .append ou <list> + []. Vamos usar a segunda:\n",
    "\n",
    "names = data.feature_names + [\"preços\"]\n",
    "print(names)"
   ]
  },
  {
   "cell_type": "code",
   "execution_count": null,
   "metadata": {
    "collapsed": true
   },
   "outputs": [],
   "source": [
    "dframe = pd.DataFrame(new_data, columns=names)\n",
    "\n",
    "dframe.head()\n"
   ]
  },
  {
   "cell_type": "markdown",
   "metadata": {
    "slideshow": {
     "slide_type": "slide"
    }
   },
   "source": [
    "# Exercícios usando a DataFrame\n",
    "\n",
    "Relembrando as perguntas de hoje:\n",
    "    \n",
    "- Quantas casas existem abaixo de 200 000 Dollars\n",
    "- Quais os 2 locais onde as casas são mais baratas\n",
    "\n"
   ]
  },
  {
   "cell_type": "markdown",
   "metadata": {},
   "source": [
    "### Quantas casas existem abaixo de 200 000 Dollars ?\n",
    "\n",
    "(Recordam-se do problema das 10 palavras mais usadas numa lista da Aula Passada? Como resolveriam com Pandas?)"
   ]
  },
  {
   "cell_type": "code",
   "execution_count": null,
   "metadata": {
    "collapsed": true
   },
   "outputs": [],
   "source": [
    "dframe[\"preços\"]\n",
    "#dframe.loc[dframe[\"preços\"]<200000,\"preços\"]\n",
    "\n",
    "#dframe.iloc[0:10,]\n",
    "\n",
    "\n",
    "a= [1,2,3]\n",
    "b = [4,5,6]\n",
    "[(i,j) for i,j in zip(a,b)]\n",
    "\n",
    "#X = [a and b and c for a,b,c in zip(list(dframe[\"preços\"]<200000), list(dframe[\"preços\"]>200), list(dframe[\"Population\"]>200))]\n",
    "#X\n",
    "\n",
    "#small_price_data = dframe.loc[,:]\n",
    "#small_price_data.head()"
   ]
  },
  {
   "cell_type": "code",
   "execution_count": null,
   "metadata": {
    "collapsed": true
   },
   "outputs": [],
   "source": [
    "small_price_data.mean()"
   ]
  },
  {
   "cell_type": "markdown",
   "metadata": {},
   "source": [
    "### Quais os 2 locais onde as casas são mais baratas?"
   ]
  },
  {
   "cell_type": "code",
   "execution_count": null,
   "metadata": {
    "collapsed": true
   },
   "outputs": [],
   "source": [
    "\n",
    "dframe.sort_values(\"preços\").iloc[0:2,:]"
   ]
  },
  {
   "cell_type": "markdown",
   "metadata": {
    "slideshow": {
     "slide_type": "slide"
    }
   },
   "source": [
    "### Já agora, qual a média do preço das casas:"
   ]
  },
  {
   "cell_type": "code",
   "execution_count": null,
   "metadata": {
    "collapsed": true
   },
   "outputs": [],
   "source": [
    "#dframe.agg([\"mean\"])[\"preços\"]\n",
    "\n",
    "#dframe.groupby(by=[\"HouseAge\", \"MedInc\"]).mean().head()\n",
    "\n",
    "X = dframe.groupby(by=[\"HouseAge\", \"MedInc\"])\n",
    "?X.filter()\n",
    "\n",
    "#dframe[(dframe[\"preços\"]<200000) & (dframe[\"Population\"]>20000)] "
   ]
  },
  {
   "cell_type": "code",
   "execution_count": null,
   "metadata": {
    "collapsed": true
   },
   "outputs": [],
   "source": []
  },
  {
   "cell_type": "markdown",
   "metadata": {
    "slideshow": {
     "slide_type": "slide"
    }
   },
   "source": [
    "\n",
    "# Mais informação para melhorar a aula da hoje (e fazer os TPCs):\n",
    "    \n",
    "- pandas: https://pandas.pydata.org/pandas-docs/stable/10min.html\n",
    "- sklearn: http://scikit-learn.org/stable/tutorial/index.html"
   ]
  }
 ],
 "metadata": {
  "celltoolbar": "Slideshow",
  "kernelspec": {
   "display_name": "Python 3",
   "language": "python",
   "name": "python3"
  },
  "language_info": {
   "codemirror_mode": {
    "name": "ipython",
    "version": 3
   },
   "file_extension": ".py",
   "mimetype": "text/x-python",
   "name": "python",
   "nbconvert_exporter": "python",
   "pygments_lexer": "ipython3",
   "version": "3.6.0"
  }
 },
 "nbformat": 4,
 "nbformat_minor": 2
}
