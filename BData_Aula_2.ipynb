{
 "cells": [
  {
   "cell_type": "markdown",
   "metadata": {
    "slideshow": {
     "slide_type": "slide"
    }
   },
   "source": [
    "\n",
    "# Big Data - Aula 2 \n",
    "\n",
    "---\n",
    "\n",
    "# Introdução ao Conceito Big Data\n",
    "\n",
    "---"
   ]
  },
  {
   "cell_type": "markdown",
   "metadata": {
    "slideshow": {
     "slide_type": "slide"
    }
   },
   "source": [
    "# Problemas Tipo a Resolver  com BigData\n",
    "---\n",
    "\n",
    "### The New Data Intensive Sience\n",
    "\n",
    "Science is now based HUGE amounts of data analysis; \n",
    "\n",
    "- Genomic Medicine\n",
    "- Brain Study\n",
    "- Astronomy from observatory data\n",
    "- Physics from CERN data, ITER etc.\n",
    "- Oceanography and Geography, \n",
    "- Biology\n",
    "- ...and Many, many others\n",
    "\n",
    "<img src=\"images/science.png\" style=\"width:60%\"/>"
   ]
  },
  {
   "cell_type": "markdown",
   "metadata": {},
   "source": [
    "### IOT, sensing and Engineering\n",
    "\n",
    "Engineering can now search effects, recommend measures and predict behaviours (like failures) with sensing data;\n",
    "\n",
    "Examples of applications:\n",
    "\n",
    "- Near Earth Object Analysis\n",
    "- Anomaly Detection\n",
    "- Cybersecurity\n",
    "- Sensor Monitoring\n",
    "- Cellular Network Monitoring\n",
    "- Cloud Monitoring\n",
    "\n",
    "<img src=\"images/IOT.png\" style=\"width:60%\"/>"
   ]
  },
  {
   "cell_type": "markdown",
   "metadata": {},
   "source": [
    "### Commerce\n",
    "\n",
    "Know Customers, market, and trends. Improve Customer Service, Offers and Value.\n",
    "\n",
    "***Data → Insights → Competitive advantages***\n",
    "\n",
    "- Community Expertise Location\n",
    "- Recommendation Commerce\n",
    "- Automatic visual sentiment analysis\n",
    "- Fraud Detection\n",
    "\n",
    "<img src=\"images/commerce.png\" style=\"width:60%\"/>\n",
    "\n"
   ]
  },
  {
   "cell_type": "markdown",
   "metadata": {
    "slideshow": {
     "slide_type": "slide"
    }
   },
   "source": [
    "## Society Improvements\n",
    "\n",
    "- Traffic Navigation With Realtime Info\n",
    "- Social Media Monitoring\n",
    "- Image and Video Semantic Understanding\n",
    "- Financial Analysis\n",
    "\n",
    "<img src=\"images/social.png\" style=\"width:60%\"/>"
   ]
  },
  {
   "cell_type": "markdown",
   "metadata": {
    "slideshow": {
     "slide_type": "slide"
    }
   },
   "source": [
    "# Algoritmia\n",
    "---\n",
    "Alguns tipos de algoritmos aplicados às áreas acima referidas:\n",
    "\n",
    "\n",
    "#### PERFORMANCE ALGORITHMS\n",
    "\n",
    "- **Text Analysis**: frequency estimation, language models, inverted indexes\n",
    "- **Graphs**: graph traversals, random walks (PageRank)\n",
    "- **Relational data**: SQL, joins, column stores\n",
    "\n",
    "\n",
    "#### DATA MINING\n",
    "\n",
    "- **Machine Learning**: hashing, clustering (k-means), classification, recommendations\n",
    "- **Streams**: probabilistic data structures (Bloom filters, CMS, HLL counters)"
   ]
  },
  {
   "cell_type": "markdown",
   "metadata": {},
   "source": [
    "## Performance Algorithms\n",
    "\n",
    "### **Text Analysis**: frequency estimation, language models, inverted indexes\n",
    "\n",
    "> **frequency estimation** - Quantas vezes surge uma palavra num texto (num livro > numa encilopédia > numa biblioteca). Usado em várias áreas como Text Classification;"
   ]
  },
  {
   "cell_type": "code",
   "execution_count": 15,
   "metadata": {},
   "outputs": [
    {
     "data": {
      "text/plain": [
       "Texto       1\n",
       "aparecem    1\n",
       "as          1\n",
       "contar      1\n",
       "de          2\n",
       "palavras    1\n",
       "para        1\n",
       "que         1\n",
       "teste       2\n",
       "vezes       1\n",
       "dtype: int64"
      ]
     },
     "execution_count": 15,
     "metadata": {},
     "output_type": "execute_result"
    }
   ],
   "source": [
    "import pandas as pd\n",
    "\n",
    "A = \"Texto de teste para contar as vezes que aparecem palavras de teste\"\n",
    "\n",
    "B = A.split(\" \")\n",
    "C = pd.Series(B)\n",
    "C.groupby(C).size()"
   ]
  },
  {
   "cell_type": "markdown",
   "metadata": {},
   "source": [
    "Super Simples, mas e se tivermos a falar de uma biblioteca ou de um streaming (contínuo) de mensagens de whatsapp?\n",
    "\n"
   ]
  },
  {
   "cell_type": "markdown",
   "metadata": {},
   "source": [
    "> **language models** - A statistical language model é uma distribuição de probabilidade sobre sequências de palavras. Usado em NLP (Natural Language Processing), por exemplo; \n",
    "\n",
    "\n",
    "> **Inverted Indexes** - Um dos \"building blocks\" dos Search Engines:\n",
    "\n",
    ">    - Index for a Search Engine: find the documents where word \"XPTO\" occurs. \n",
    ">\n",
    ">    - Forward Index: \n",
    ">\n",
    "> ``` \n",
    ">    {doc1:{word1, word2, word3,...}, doc2:{word10, word20, word30,...}} \n",
    "> ```\n",
    ">\n",
    ">    - Inverted Index: \n",
    "> \n",
    "> ```\n",
    ">    {word1:{doc1, doc2, doc3,...}, word2:{doc10, doc20, doc30,...}}\n",
    "> ```\n",
    "    "
   ]
  },
  {
   "cell_type": "markdown",
   "metadata": {
    "slideshow": {
     "slide_type": "slide"
    }
   },
   "source": [
    "# Algoritmia\n",
    "----\n",
    "### Graphs: graph traversals, random walks (PageRank)\n",
    "\n",
    "> **graph traversals** - (also known as graph search) refers to the process of visiting (checking and/or updating) each vertex in a graph. Used in Imaging, Network inspections etc.\n",
    "\n",
    "> **random walks** - many scientific fields including ecology, psychology, computer science, physics, chemistry, biology as well as economics [https://upload.wikimedia.org/wikipedia/commons/c/cb/Random_walk_25000.svg](https://upload.wikimedia.org/wikipedia/commons/c/cb/Random_walk_25000.svg)\n",
    "\n",
    "\n",
    "### Relational data: SQL, joins, column stores\n",
    "\n",
    "> You now this for \"small\" data... How to work with Large Data?"
   ]
  },
  {
   "cell_type": "markdown",
   "metadata": {
    "slideshow": {
     "slide_type": "slide"
    }
   },
   "source": [
    "# Algoritmia\n",
    "---\n",
    "### Data mining: Deep Learning, Clustering, Classification, Recommendations\n",
    "\n",
    "> **Deep Learning** - Special **Classification** Techinque for Image Analysis, Sound, Natural Language Processing, etc...\n",
    "\n",
    "<img src=\"images/deeplearning.png\" style=\"width:50%\"/>"
   ]
  },
  {
   "cell_type": "markdown",
   "metadata": {
    "slideshow": {
     "slide_type": "slide"
    }
   },
   "source": [
    "> **clustering** - Cluster Detection, using Unsupervised learning \n",
    "\n",
    "<img src=\"images/clustering.png\" style=\"width:50%\"/>"
   ]
  },
  {
   "cell_type": "markdown",
   "metadata": {
    "slideshow": {
     "slide_type": "slide"
    }
   },
   "source": [
    ">**Recomendations** - Perceber em dados de vendas numa empresa que quando alguem compra leite de criança...\n",
    "É provavel que também compre Fraldas\n",
    "\n",
    "<img src=\"images/dippers.png\" style=\"width:50%\"/>"
   ]
  },
  {
   "cell_type": "markdown",
   "metadata": {
    "slideshow": {
     "slide_type": "slide"
    }
   },
   "source": [
    "### Streams: probabilistic data structures like Bloom filters, CMS, HLL counters\n",
    "\n",
    "\n",
    "- **Count–min sketch** - algorithm to create a frequency table of events\n",
    "- **Hyper LogLog** - algorithm for the count-distinct problem\n",
    "- **Bloom filters** - Found / Not Found in Set"
   ]
  },
  {
   "cell_type": "markdown",
   "metadata": {
    "slideshow": {
     "slide_type": "slide"
    }
   },
   "source": [
    "# Posto isto\n",
    "---\n",
    "Vamos ver alguns destes algoritmos em detalhe durante esta disciplina e perceber como implementá-los em ambientes normais ... e de Big Data.\n",
    "\n",
    "\n",
    "# Objective:\n",
    "\n",
    "Discover patterns and models that are:\n",
    "\n",
    "- **Valid**: hold on new data with some certainty\n",
    "- **Useful**: should be possible to act on the item\n",
    "- **Unexpected**: non-obvious to the system\n",
    "- **Understandable**: humans should be able to interpret the pattern"
   ]
  },
  {
   "cell_type": "markdown",
   "metadata": {
    "slideshow": {
     "slide_type": "slide"
    }
   },
   "source": [
    "# Revisão de conceitos de Machine Learning/Data Mining"
   ]
  },
  {
   "cell_type": "markdown",
   "metadata": {
    "slideshow": {
     "slide_type": "slide"
    }
   },
   "source": [
    "## Métodos do Data Mining (usando machine learning)\n",
    "\n",
    "----\n",
    "- **Classification <span style=\"background-color: #EEEEEE\">supervised</span>**: Classificar um exemplar com **uma dada categoria** com base nas suas propriedades (*atributos*)\n",
    "\n",
    "- **Regression <span style=\"background-color: #EEEEEE\">supervised</span>**: Assignar a um exemplar **um valor** com base nas suas propriedades (*atributos*)\n",
    "\n",
    "\n",
    "---\n",
    "\n",
    "- **Clustering <span style=\"background-color: #EEEEEE\">unsupervised</span>**: Agrupar registos ***\"semelhantes\"*** com base nas suas propriedades;\n",
    "\n",
    "- **Association Rule Discovery <span style=\"background-color: #EEEEEE\">unsupervised </span>**: Associar registos a outros, com base no histórico\n",
    "\n",
    "---"
   ]
  },
  {
   "cell_type": "markdown",
   "metadata": {
    "slideshow": {
     "slide_type": "slide"
    }
   },
   "source": [
    "# Classification\n",
    "---\n",
    "> Classificar um exemplar com uma dada categoria com base nas suas propriedades\n",
    "\n",
    "> **Trata-se de uma classificação Qualitativa**\n",
    "\n",
    "### Exemplos:\n",
    "\n",
    "- Prever casos fraudulentos em transações de cartão de crédito (Clasificação Binária)\n",
    "\n",
    "- Reconhecer escrita manual (Classificar num conjunto de classes)\n",
    "   \n",
    "<img src=\"images/classification_example.png\" style=\"width:40%; margin:auto\"/>  \n",
    "\n",
    "\n",
    "- Prever se um cliente será perdido para um concorrente (Clasificação Binária)"
   ]
  },
  {
   "cell_type": "markdown",
   "metadata": {
    "slideshow": {
     "slide_type": "slide"
    }
   },
   "source": [
    "# Regression\n",
    "---\n",
    ">Assignar a um exemplar um valor com base nas suas propriedades\n",
    "\n",
    ">**Trata-se de uma classificação Quantitiativa**\n",
    "\n",
    "### Exemplos:\n",
    "\n",
    "- Previsão de números de vendas de um novo produto com base em despesa/tipo(s)/duração das campanhas publicitárias\n",
    "\n",
    "- Previsão de séries temporais de índices de mercado de ações com base em notícias e outros eventos\n",
    "\n"
   ]
  },
  {
   "cell_type": "markdown",
   "metadata": {
    "slideshow": {
     "slide_type": "slide"
    }
   },
   "source": [
    "# Clustering \n",
    "---\n",
    "> Agrupar exemplares com base nas suas propriedades. \n",
    "\n",
    "> É um processo de aprendizagem **não supervisionado**.\n",
    "\n",
    "Exemplos:\n",
    "\n",
    "- Encontrar grupos de documentos que são semelhantes entre si com base em termos relevantes que neles aparecem;\n",
    "- Subdividir um mercado em subconjuntos de clientes, onde cada subconjunto pode ser trabalhado de forma específica;"
   ]
  },
  {
   "cell_type": "markdown",
   "metadata": {
    "slideshow": {
     "slide_type": "slide"
    }
   },
   "source": [
    "## Clustering (cont.)\n",
    "----\n",
    "\n",
    "##### Tomemos o exemplo do clustering de documentos semelhantes\n",
    "\n",
    "- Repare-se que não existem, à partida, Classes - estas serão criadas com base nas combinações de \"features\" que vão surgindo nos documentos.<img src=\"./images/Cluster_data.png\" style=\"width:40%; margin:auto\"/> \n",
    "Por exemplo, neste caso nada nos diz à partida que categorias existem - são criadas de acordo com o tipo de documentos que foram analisados\n",
    "\n",
    "- Os grupos são criados medindo quantivamente a semelhança entre registos e denotando a que grupo cada um deve pertencer."
   ]
  },
  {
   "cell_type": "markdown",
   "metadata": {
    "slideshow": {
     "slide_type": "slide"
    }
   },
   "source": [
    "# Association Rule Discovery\n",
    "---\n",
    "Dado um conjunto de registros, cada um dos quais contém alguns items de uma determinada coleção, \"Desccobrir\" regras de dependência que prevejam a ocorrência de um item com base em ocorrências de outros itens - **é uma aprendizagem não supervisionada**\n",
    "\n",
    "### Exemplos:\n",
    "\n",
    "- **Marketing and sales promotion** - regras de associação permitem, por exemplo:\n",
    "    - Perceber que quais os produtos cuja venda faz disparar as vendas de um produto \"Pão\" $$[Prods] => Pão$$\n",
    "    - Perceber que produtos são mais afectados pela falta de venda de pão $$[Pão] => Prods$$    \n"
   ]
  },
  {
   "cell_type": "markdown",
   "metadata": {},
   "source": [
    "- **Gestão do posicionamento de prateleiras num Supermercado** - Ninguem se surpreende em encontrar molhos ketchup junto das batatas fritas;\n",
    "\n",
    "<img src=\"./images/supermarket.jpg\" style=\"width:40%; margin:auto\"/>\n",
    "\n",
    "- **Gestão do posicionamento de produtos numa Webpage** (Pelo mesmo motivo que o anterior)"
   ]
  },
  {
   "cell_type": "markdown",
   "metadata": {
    "slideshow": {
     "slide_type": "slide"
    }
   },
   "source": [
    "# DataMining Methods\n",
    "\n",
    "\n",
    "## Descriptive methods\n",
    "\n",
    "   Find human-interpretable patterns that describe the data    \n",
    "\n",
    "   **Example:** Clustering\n",
    "\n",
    "## Predictive methods\n",
    "\n",
    "   Use some variables to predict unknown or future values of other variables    \n",
    "\n",
    "   **Example:** Recommender systems\n",
    "\n",
    "\n"
   ]
  },
  {
   "cell_type": "markdown",
   "metadata": {
    "slideshow": {
     "slide_type": "slide"
    }
   },
   "source": [
    "# Model Training: DataSet Split\n",
    "---\n",
    "\n",
    "## Overfitting and Underfitting\n",
    "\n",
    "**Conceito de overfitting:** Por vezes o resultado do treino é um modelo demasiado à semelhança dos dados que foram usados para treinar e perdemos capacidade de generalização para novos dados. Nesse caso dizemos que o problema tem overfitting;\n",
    "\n",
    "**Conceito de underfitting:** Por vezes o resultado do treino é um modelo mal treinado, onde os resultados representam um erro muito para além do esperado; Nesse caso estamos em underfitting;\n",
    "\n"
   ]
  },
  {
   "cell_type": "markdown",
   "metadata": {
    "slideshow": {
     "slide_type": "slide"
    }
   },
   "source": [
    "O resultado prático de overfitting (variance) e underfitting (bias):\n",
    "\n",
    "<img src=\"images/overfitting_underfitting.jpg\"   style=\"width:60%\"/>\n",
    "\n",
    "\n",
    "> **Mas como saber qual a performance do nosso modelo?**"
   ]
  },
  {
   "cell_type": "markdown",
   "metadata": {
    "slideshow": {
     "slide_type": "slide"
    }
   },
   "source": [
    "### Hold Out - Training set  and Test Set\n",
    "\n",
    "\n",
    "- Método mais simples de validação de resultados.\n",
    "- Dados são separados em 2 conjuntos: \n",
    "    - **Training Set** (~80% para in-memory data, <99% for bigdata/Deep Learning)\n",
    "    - **Test Set** (~20% para in-memory data, <1% for bigdata/Deep Learning)\n",
    "\n",
    "O Fit do modelos são feitos Training\n",
    "\n",
    "<img src=\"./images/train_test.jpg\" style=\"width:60%\" />"
   ]
  },
  {
   "cell_type": "markdown",
   "metadata": {
    "slideshow": {
     "slide_type": "slide"
    }
   },
   "source": [
    "### Hold Out vs Cross Validation\n",
    "\n",
    "<img src=\"images/From+Holdout+Evaluation+to+Cross-Validation.jpg\" style=\"width:60%\"/>"
   ]
  },
  {
   "cell_type": "markdown",
   "metadata": {
    "slideshow": {
     "slide_type": "slide"
    }
   },
   "source": [
    "# Pre - processing\n",
    "\n",
    "\n",
    "---\n",
    "\n",
    "Esta área é absolutamente fundamental em Data Mining. \n",
    "\n",
    "2 tipos de pre-processamento: \n",
    "\n",
    "1) **Preparação de Dados** - Para que os modelos possam ser aplicaveis aos dados\n",
    "\n",
    "- Binarização\n",
    "- Discretização\n",
    "- Normalização\n",
    "\n",
    "\n",
    "2) **Redução da quantidade de dados** - para que os modelos sejam implementáveis;\n",
    "\n",
    "- Agregação \n",
    "- Sampling\n",
    "- Redução de Dimensionalidade\n",
    "\n",
    "\n",
    "> De Referir que muitos dos métodos aqui falados são eles próprios alvo de algoritmos de *Machine Learning*, como aqueles que falaremos nas próximas aulas;\n"
   ]
  },
  {
   "cell_type": "markdown",
   "metadata": {},
   "source": [
    "# Encodings para Features Discretas\n",
    "\n",
    "Many times in deep learning you will have a y vector with numbers ranging from 0 to C-1, where C is the number of classes. If C is for example 4, then you might have the following y vector \n",
    "\n",
    "$$ y = [1,2,3,0,2,1]$$\n",
    "\n",
    "\n",
    "### One Hot encoding\n",
    "\n",
    "If you convert it as  this\n",
    "\n",
    "\n",
    "<img src=\"images/onehot.png\" style=\"width:60%\">\n",
    "\n",
    "\n",
    "This is called a \"one hot\" encoding, because in the converted representation exactly one element of each column is \"hot\" (meaning set to 1). "
   ]
  },
  {
   "cell_type": "markdown",
   "metadata": {},
   "source": [
    "# TPC 0 - Facultativo\n",
    "\n",
    "\n",
    "A binary gap within a positive integer N is any maximal sequence of consecutive zeros that is surrounded by ones at both ends in the binary representation of N.\n",
    "\n",
    "For example, number 9 has binary representation 1001 and contains a binary gap of length 2. The number 529 has binary representation 1000010001 and contains two binary gaps: one of length 4 and one of length 3. The number 20 has binary representation 10100 and contains one binary gap of length 1. The number 15 has binary representation 1111 and has no binary gaps.\n",
    "\n",
    "Write a function:\n",
    "\n",
    "def solution(N)\n",
    "that, given a positive integer N, returns the length of its longest binary gap. The function should return 0 if N doesn't contain a binary gap.\n",
    "\n",
    "For example, given N = 1041 the function should return 5, because N has binary representation 10000010001 and so its longest binary gap is of length 5.\n",
    "\n",
    "Assume that:\n",
    "\n",
    "N is an integer within the range [1..2,147,483,647]."
   ]
  }
 ],
 "metadata": {
  "celltoolbar": "Slideshow",
  "kernelspec": {
   "display_name": "Python 3",
   "language": "python",
   "name": "python3"
  },
  "language_info": {
   "codemirror_mode": {
    "name": "ipython",
    "version": 3
   },
   "file_extension": ".py",
   "mimetype": "text/x-python",
   "name": "python",
   "nbconvert_exporter": "python",
   "pygments_lexer": "ipython3",
   "version": "3.6.0"
  }
 },
 "nbformat": 4,
 "nbformat_minor": 2
}
