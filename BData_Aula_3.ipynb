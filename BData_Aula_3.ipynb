{
 "cells": [
  {
   "cell_type": "markdown",
   "metadata": {},
   "source": [
    "# Big Data - Aula 3 \n",
    "\n",
    "---\n",
    "\n",
    "## Aula Prática: Python for DataScientists - Python+Numpy\n",
    "\n",
    "## Algoritmic Concepts Revision and Distributed Computing Challenges\n",
    "\n",
    "---"
   ]
  },
  {
   "cell_type": "markdown",
   "metadata": {
    "collapsed": true,
    "slideshow": {
     "slide_type": "slide"
    }
   },
   "source": [
    "Nesta aula vamos fazer alguns exercícios de Python e aprender a trabalhar com três módulos:\n",
    "- **Numpy** - módulo de python para cálculos numéricos e matriciais.\n",
    "- **Pandas** - módulo de python para executar agregações, filtragens manipulação de dados sequenciais ou tabulares (semelhante ao executado pelas queries em SQL)\n",
    "- **Sklearn** - módulo de machine learning/Data mining"
   ]
  },
  {
   "cell_type": "markdown",
   "metadata": {
    "slideshow": {
     "slide_type": "slide"
    }
   },
   "source": [
    "# Exemplos básicos do uso de python\n",
    "---\n"
   ]
  },
  {
   "cell_type": "code",
   "execution_count": 5,
   "metadata": {},
   "outputs": [
    {
     "name": "stdout",
     "output_type": "stream",
     "text": [
      "Hello World!!!\n"
     ]
    }
   ],
   "source": [
    "# Hello World\n",
    "\n",
    "print (\"Hello World!!!\")\n",
    "s = 2\n",
    "t =3"
   ]
  },
  {
   "cell_type": "code",
   "execution_count": 6,
   "metadata": {},
   "outputs": [
    {
     "data": {
      "text/plain": [
       "2"
      ]
     },
     "execution_count": 6,
     "metadata": {},
     "output_type": "execute_result"
    }
   ],
   "source": [
    "#Criar uma lista (array)\n",
    "A= [1,2,3,4,5]\n",
    "A[1]"
   ]
  },
  {
   "cell_type": "code",
   "execution_count": 7,
   "metadata": {},
   "outputs": [
    {
     "ename": "KeyError",
     "evalue": "140",
     "output_type": "error",
     "traceback": [
      "\u001b[0;31m---------------------------------------------------------------------------\u001b[0m",
      "\u001b[0;31mKeyError\u001b[0m                                  Traceback (most recent call last)",
      "\u001b[0;32m<ipython-input-7-c8c4832c0340>\u001b[0m in \u001b[0;36m<module>\u001b[0;34m()\u001b[0m\n\u001b[0;32m----> 1\u001b[0;31m \u001b[0mOut\u001b[0m\u001b[0;34m[\u001b[0m\u001b[0;36m140\u001b[0m\u001b[0;34m]\u001b[0m\u001b[0;34m\u001b[0m\u001b[0m\n\u001b[0m",
      "\u001b[0;31mKeyError\u001b[0m: 140"
     ]
    }
   ],
   "source": [
    "Out[140]"
   ]
  },
  {
   "cell_type": "code",
   "execution_count": null,
   "metadata": {
    "collapsed": true
   },
   "outputs": [],
   "source": [
    "import random\n",
    "\n",
    "\n",
    "a = [3]*10\n",
    "a\n",
    "\n",
    "b = [random.random() for i in range(10)]\n",
    "b\n",
    "\n",
    "[random.random()*10, random.random()*10, random.random()*100-50]"
   ]
  },
  {
   "cell_type": "code",
   "execution_count": null,
   "metadata": {
    "collapsed": true
   },
   "outputs": [],
   "source": [
    "for i in range(7,10):\n",
    "    print (i)\n",
    "    "
   ]
  },
  {
   "cell_type": "code",
   "execution_count": null,
   "metadata": {
    "collapsed": true,
    "slideshow": {
     "slide_type": "slide"
    }
   },
   "outputs": [],
   "source": [
    "N = [n for n in range(3)]\n",
    "\n",
    "print(N)\n",
    "type(N)\n",
    "\n",
    "?N.pop"
   ]
  },
  {
   "cell_type": "code",
   "execution_count": null,
   "metadata": {
    "collapsed": true
   },
   "outputs": [],
   "source": [
    "#criar uma função\n",
    "def teste(N):\n",
    "    X = []\n",
    "    for n in N:\n",
    "        X.append(n**2)\n",
    "    return X\n",
    "\n",
    "#chamar a função\n",
    "teste([3,4,5])"
   ]
  },
  {
   "cell_type": "code",
   "execution_count": null,
   "metadata": {
    "collapsed": true
   },
   "outputs": [],
   "source": [
    "N = [1,2,3,4,5,6,7]\n",
    "\n",
    "[n**2 for n in N if (n**2)%2==0]\n",
    "\n",
    "N[0:5]"
   ]
  },
  {
   "cell_type": "code",
   "execution_count": null,
   "metadata": {
    "collapsed": true
   },
   "outputs": [],
   "source": [
    "N[0:5:2]"
   ]
  },
  {
   "cell_type": "code",
   "execution_count": null,
   "metadata": {
    "collapsed": true,
    "slideshow": {
     "slide_type": "slide"
    }
   },
   "outputs": [],
   "source": [
    "print(N)\n",
    "N[5:2:-1]\n"
   ]
  },
  {
   "cell_type": "code",
   "execution_count": null,
   "metadata": {
    "collapsed": true
   },
   "outputs": [],
   "source": [
    "#Criar um dictionary\n",
    "A = {\"foo\":123,\"bar\":456}\n",
    "print(A.keys())\n",
    "print(A.values())\n",
    "print(A.items())\n",
    "A"
   ]
  },
  {
   "cell_type": "code",
   "execution_count": null,
   "metadata": {
    "collapsed": true
   },
   "outputs": [],
   "source": [
    "[[1,2,3],[4,5,6]]"
   ]
  },
  {
   "cell_type": "code",
   "execution_count": null,
   "metadata": {
    "collapsed": true
   },
   "outputs": [],
   "source": [
    "# Conceito de Broadcast em numpy\n",
    "\n",
    "import numpy as np\n",
    "\n",
    "X = np.array([[1,2,3],[4,5,6]])\n",
    "Y = np.array([[1,2,2]])\n",
    "Z = np.array([[1],[2],[3]])\n",
    "print(X.shape)\n",
    "print(Y.shape)\n",
    "print(Z.shape)\n",
    "\n",
    "#matriz transposta\n",
    "print(Z)\n",
    "Z.T"
   ]
  },
  {
   "cell_type": "code",
   "execution_count": null,
   "metadata": {
    "collapsed": true
   },
   "outputs": [],
   "source": [
    "np.random.random([4,4])"
   ]
  },
  {
   "cell_type": "code",
   "execution_count": null,
   "metadata": {
    "collapsed": true
   },
   "outputs": [],
   "source": [
    "np.ones([3,3])*[3]"
   ]
  },
  {
   "cell_type": "code",
   "execution_count": null,
   "metadata": {
    "collapsed": true
   },
   "outputs": [],
   "source": [
    "np.zeros([4,4])"
   ]
  },
  {
   "cell_type": "code",
   "execution_count": null,
   "metadata": {
    "collapsed": true
   },
   "outputs": [],
   "source": [
    "np.array([range(10)]).reshape(10,1)"
   ]
  },
  {
   "cell_type": "code",
   "execution_count": null,
   "metadata": {
    "collapsed": true
   },
   "outputs": [],
   "source": [
    "#exemplo de broadcast 1\n",
    "print(X)\n",
    "print(\"----\")\n",
    "#print(Y)\n",
    "#print(\"----\")\n",
    "\n",
    "Z = X*[2,0,1]\n",
    "\n",
    "#print(X.shape)\n",
    "#print(Y.shape)\n",
    "\n",
    "Z"
   ]
  },
  {
   "cell_type": "code",
   "execution_count": null,
   "metadata": {
    "collapsed": true
   },
   "outputs": [],
   "source": [
    "A = np.array([[1,2,3,4,5,6],[1,1,1,1,1,1]])\n",
    "print(A)\n",
    "B = np.array([[3],[4]])\n",
    "print(B)\n",
    "\n",
    "A*B              "
   ]
  },
  {
   "cell_type": "code",
   "execution_count": null,
   "metadata": {
    "collapsed": true
   },
   "outputs": [],
   "source": [
    "#exemplo de broadcast 2\n",
    "Y = np.array([[2], [1]])\n",
    "Z = X*Y\n",
    "print(X.shape)\n",
    "print(Y.shape)\n",
    "\n",
    "Z"
   ]
  },
  {
   "cell_type": "code",
   "execution_count": null,
   "metadata": {
    "collapsed": true
   },
   "outputs": [],
   "source": [
    "#exemplo de broadcast falhado\n",
    "Y = np.array([[1,2]])\n",
    "print(X)\n",
    "print(Y)\n",
    "Z = X*Y.T\n",
    "Z"
   ]
  },
  {
   "cell_type": "markdown",
   "metadata": {},
   "source": [
    "# Mais informação para melhorar a aula da hoje (e fazer os TPCs):\n",
    "    \n",
    "- python: http://docs.python-guide.org/en/latest/\n",
    "- numpy: https://docs.scipy.org/doc/numpy-dev/user/quickstart.html\n"
   ]
  },
  {
   "cell_type": "markdown",
   "metadata": {
    "slideshow": {
     "slide_type": "slide"
    }
   },
   "source": [
    "# Algoritmic Concepts Revision and Distributed Computing Challenges\n",
    "\n",
    "## PARTE 1\n",
    "---\n"
   ]
  },
  {
   "cell_type": "markdown",
   "metadata": {
    "slideshow": {
     "slide_type": "slide"
    }
   },
   "source": [
    "# Simple, Often Used, Algorihtms\n",
    "---\n",
    "\n",
    "## 1) Analysing Text - Counting Distinct Occorrences \n",
    "---\n",
    "\n",
    "### We have a huge text document    \n",
    "Count the number of times each distinct word appears in the file\n",
    "\n",
    "### Application Example:\n",
    "\n",
    "Analyze web server logs to find popular URLs"
   ]
  },
  {
   "cell_type": "code",
   "execution_count": 9,
   "metadata": {
    "slideshow": {
     "slide_type": "slide"
    }
   },
   "outputs": [
    {
     "name": "stdout",
     "output_type": "stream",
     "text": [
      "O incêndio florestal de Pedrógão Grande deflagrou a 17 de junho de 2017 no concelho de Pedrógão Grande, no distrito de Leiria, em Portugal, tendo alastrado aos concelhos vizinhos de Castanheira de Pêra, Figueiró dos Vinhos, Ansião e Alvaiázere (também distrito de Leiria); ao concelho da Sertã (distrito de Castelo Branco); ao concelho de Pampilhosa da Serra (distrito de Coimbra). No mesmo dia deflagrou outro incêndio de grandes proporções no concelho de Góis, distrito de Coimbra, que acabou posteriormente por alastrar aos concelhos de Pampilhosa da Serra e de Arganil. No dia 20 de Junho de 2017 uma das frentes de fogo do incêndio de Pedrógão Grande juntou-se ao incêndio de Góis, formando uma área ardida contígua. O desastre é o maior incêndio florestal de sempre em Portugal, o mais mortífero da história do país e o 11.º mais mortífero a nível mundial desde 1900. Um balanço provisório contabilizou 64 mortos (63 civis e 1 bombeiro voluntário de Castanheira de Pera) e 254 feridos (241 civis, 12 bombeiros e 1 militar da Guarda Nacional Republicana), dos quais 7 em estado grave (4 bombeiros, 2 civis e 1 criança). Entre as vítimas mortais, 47 foram encontradas nas estradas do concelho de Pedrógão Grande, tendo 30 morrido nos automóveis e 17 nas suas imediações durante a fuga ao incêndio. O incêndio também arrasou dezenas de lugares. O nº oficial é de 64 mortos. Em termos de prejuízos materiais, foram contabilizadas mais de 500 casas de habitação parcial ou totalmente destruídas pelo fogo. Foram também afectadas 48 empresas com 372 postos de trabalho. A estimativa provisória do montante total de prejuízos ascende a 500 milhões de euros. A causa apontada pelas autoridades foi trovoada seca que, conjugada com temperaturas muito elevadas (superiores a 40 graus Celsius) e vento muito intenso e variável, fez deflagrar e propagar rapidamente o fogo. No entanto, o presidente da Liga dos Bombeiros, Jaime Marta Soares, acredita que este incêndio não teve origem em causas naturais já que, segundo a perceção de alguns habitantes de Pedrógão Grande, o fogo já estaria ativo duas horas antes da altura em que ocorreu a trovoada seca nesta zona. A Procuradoria-Geral da República confirmou que o Ministério Público está a investigar as causas do incêndio. Como resposta à catástrofe, o governo de Portugal decretou três dias de luto nacional, de 18 a 20 de junho de 2017, enquanto várias autoridades internacionais enviaram mensagens de solidariedade.\n"
     ]
    },
    {
     "data": {
      "text/plain": [
       "'O incêndio florestal de Pedrógão Grande deflagrou a 17 de junho de 2017 no concelho de Pedrógão Grande no distrito de Leiria em Portugal tendo alastrado aos concelhos vizinhos de Castanheira de Pêra Figueiró dos Vinhos Ansião e Alvaiázere também distrito de Leiria ao concelho da Sertã distrito de Castelo Branco ao concelho de Pampilhosa da Serra distrito de Coimbra No mesmo dia deflagrou outro incêndio de grandes proporções no concelho de Góis distrito de Coimbra que acabou posteriormente por alastrar aos concelhos de Pampilhosa da Serra e de Arganil No dia 20 de Junho de 2017 uma das frentes de fogo do incêndio de Pedrógão Grande juntou-se ao incêndio de Góis formando uma área ardida contígua O desastre é o maior incêndio florestal de sempre em Portugal o mais mortífero da história do país e o 11 mais mortífero a nível mundial desde 1900 Um balanço provisório contabilizou 64 mortos 63 civis e 1 bombeiro voluntário de Castanheira de Pera e 254 feridos 241 civis 12 bombeiros e 1 militar da Guarda Nacional Republicana dos quais 7 em estado grave 4 bombeiros 2 civis e 1 criança Entre as vítimas mortais 47 foram encontradas nas estradas do concelho de Pedrógão Grande tendo 30 morrido nos automóveis e 17 nas suas imediações durante a fuga ao incêndio O incêndio também arrasou dezenas de lugares O n oficial é de 64 mortos Em termos de prejuízos materiais foram contabilizadas mais de 500 casas de habitação parcial ou totalmente destruídas pelo fogo Foram também afectadas 48 empresas com 372 postos de trabalho A estimativa provisória do montante total de prejuízos ascende a 500 milhões de euros A causa apontada pelas autoridades foi trovoada seca que conjugada com temperaturas muito elevadas superiores a 40 graus Celsius e vento muito intenso e variável fez deflagrar e propagar rapidamente o fogo No entanto o presidente da Liga dos Bombeiros Jaime Marta Soares acredita que este incêndio não teve origem em causas naturais já que segundo a perceção de alguns habitantes de Pedrógão Grande o fogo já estaria ativo duas horas antes da altura em que ocorreu a trovoada seca nesta zona A Procuradoria-Geral da República confirmou que o Ministério Público está a investigar as causas do incêndio Como resposta à catástrofe o governo de Portugal decretou três dias de luto nacional de 18 a 20 de junho de 2017 enquanto várias autoridades internacionais enviaram mensagens de solidariedade'"
      ]
     },
     "execution_count": 9,
     "metadata": {},
     "output_type": "execute_result"
    }
   ],
   "source": [
    "A = \"O incêndio florestal de Pedrógão Grande deflagrou a 17 de junho de 2017 no concelho de Pedrógão Grande, no distrito de Leiria, em Portugal, tendo alastrado aos concelhos vizinhos de Castanheira de Pêra, Figueiró dos Vinhos, Ansião e Alvaiázere (também distrito de Leiria); ao concelho da Sertã (distrito de Castelo Branco); ao concelho de Pampilhosa da Serra (distrito de Coimbra). No mesmo dia deflagrou outro incêndio de grandes proporções no concelho de Góis, distrito de Coimbra, que acabou posteriormente por alastrar aos concelhos de Pampilhosa da Serra e de Arganil. No dia 20 de Junho de 2017 uma das frentes de fogo do incêndio de Pedrógão Grande juntou-se ao incêndio de Góis, formando uma área ardida contígua. O desastre é o maior incêndio florestal de sempre em Portugal, o mais mortífero da história do país e o 11.º mais mortífero a nível mundial desde 1900. Um balanço provisório contabilizou 64 mortos (63 civis e 1 bombeiro voluntário de Castanheira de Pera) e 254 feridos (241 civis, 12 bombeiros e 1 militar da Guarda Nacional Republicana), dos quais 7 em estado grave (4 bombeiros, 2 civis e 1 criança). Entre as vítimas mortais, 47 foram encontradas nas estradas do concelho de Pedrógão Grande, tendo 30 morrido nos automóveis e 17 nas suas imediações durante a fuga ao incêndio. O incêndio também arrasou dezenas de lugares. O nº oficial é de 64 mortos. Em termos de prejuízos materiais, foram contabilizadas mais de 500 casas de habitação parcial ou totalmente destruídas pelo fogo. Foram também afectadas 48 empresas com 372 postos de trabalho. A estimativa provisória do montante total de prejuízos ascende a 500 milhões de euros. A causa apontada pelas autoridades foi trovoada seca que, conjugada com temperaturas muito elevadas (superiores a 40 graus Celsius) e vento muito intenso e variável, fez deflagrar e propagar rapidamente o fogo. No entanto, o presidente da Liga dos Bombeiros, Jaime Marta Soares, acredita que este incêndio não teve origem em causas naturais já que, segundo a perceção de alguns habitantes de Pedrógão Grande, o fogo já estaria ativo duas horas antes da altura em que ocorreu a trovoada seca nesta zona. A Procuradoria-Geral da República confirmou que o Ministério Público está a investigar as causas do incêndio. Como resposta à catástrofe, o governo de Portugal decretou três dias de luto nacional, de 18 a 20 de junho de 2017, enquanto várias autoridades internacionais enviaram mensagens de solidariedade.\"\n",
    "print(A)\n",
    "\n",
    "A_corr = A.replace(\",\", \"\").replace(\".\", \"\").replace(\"(\", \"\").replace(\")\", \"\").replace(\";\", \"\").replace(\"º\",\"\")\n",
    "\n",
    "A_corr"
   ]
  },
  {
   "cell_type": "code",
   "execution_count": 10,
   "metadata": {},
   "outputs": [
    {
     "name": "stdout",
     "output_type": "stream",
     "text": [
      "402\n"
     ]
    }
   ],
   "source": [
    "A_arr = A_corr.split(\" \")\n",
    "print(len(A_arr))"
   ]
  },
  {
   "cell_type": "code",
   "execution_count": 11,
   "metadata": {},
   "outputs": [
    {
     "data": {
      "text/plain": [
       "['O',\n",
       " 'incêndio',\n",
       " 'florestal',\n",
       " 'de',\n",
       " 'Pedrógão',\n",
       " 'Grande',\n",
       " 'deflagrou',\n",
       " 'a',\n",
       " '17',\n",
       " 'de']"
      ]
     },
     "execution_count": 11,
     "metadata": {},
     "output_type": "execute_result"
    }
   ],
   "source": [
    "A_arr[:10]"
   ]
  },
  {
   "cell_type": "code",
   "execution_count": 12,
   "metadata": {},
   "outputs": [
    {
     "data": {
      "text/plain": [
       "373"
      ]
     },
     "execution_count": 12,
     "metadata": {},
     "output_type": "execute_result"
    }
   ],
   "source": [
    "A_arr_corr = [a.strip().lower() for a in A_arr if a !=\"\" and not a.isdigit()]\n",
    "\n",
    "len(A_arr_corr)"
   ]
  },
  {
   "cell_type": "code",
   "execution_count": 13,
   "metadata": {
    "scrolled": false
   },
   "outputs": [
    {
     "data": {
      "text/plain": [
       "['o',\n",
       " 'incêndio',\n",
       " 'florestal',\n",
       " 'de',\n",
       " 'pedrógão',\n",
       " 'grande',\n",
       " 'deflagrou',\n",
       " 'a',\n",
       " 'de',\n",
       " 'junho']"
      ]
     },
     "execution_count": 13,
     "metadata": {},
     "output_type": "execute_result"
    }
   ],
   "source": [
    "A_arr_corr[:10]"
   ]
  },
  {
   "cell_type": "code",
   "execution_count": 17,
   "metadata": {},
   "outputs": [
    {
     "data": {
      "text/plain": [
       "{'a': 12,\n",
       " 'acabou': 1,\n",
       " 'acredita': 1,\n",
       " 'afectadas': 1,\n",
       " 'alastrado': 1,\n",
       " 'alastrar': 1,\n",
       " 'alguns': 1,\n",
       " 'altura': 1,\n",
       " 'alvaiázere': 1,\n",
       " 'ansião': 1,\n",
       " 'antes': 1,\n",
       " 'ao': 4,\n",
       " 'aos': 2,\n",
       " 'apontada': 1,\n",
       " 'ardida': 1,\n",
       " 'arganil': 1,\n",
       " 'arrasou': 1,\n",
       " 'as': 2,\n",
       " 'ascende': 1,\n",
       " 'ativo': 1,\n",
       " 'automóveis': 1,\n",
       " 'autoridades': 2,\n",
       " 'balanço': 1,\n",
       " 'bombeiro': 1,\n",
       " 'bombeiros': 3,\n",
       " 'branco': 1,\n",
       " 'casas': 1,\n",
       " 'castanheira': 2,\n",
       " 'castelo': 1,\n",
       " 'catástrofe': 1,\n",
       " 'causa': 1,\n",
       " 'causas': 2,\n",
       " 'celsius': 1,\n",
       " 'civis': 3,\n",
       " 'coimbra': 2,\n",
       " 'com': 2,\n",
       " 'como': 1,\n",
       " 'concelho': 5,\n",
       " 'concelhos': 2,\n",
       " 'confirmou': 1,\n",
       " 'conjugada': 1,\n",
       " 'contabilizadas': 1,\n",
       " 'contabilizou': 1,\n",
       " 'contígua': 1,\n",
       " 'criança': 1,\n",
       " 'da': 8,\n",
       " 'das': 1,\n",
       " 'de': 41,\n",
       " 'decretou': 1,\n",
       " 'deflagrar': 1,\n",
       " 'deflagrou': 2,\n",
       " 'desastre': 1,\n",
       " 'desde': 1,\n",
       " 'destruídas': 1,\n",
       " 'dezenas': 1,\n",
       " 'dia': 2,\n",
       " 'dias': 1,\n",
       " 'distrito': 5,\n",
       " 'do': 5,\n",
       " 'dos': 3,\n",
       " 'duas': 1,\n",
       " 'durante': 1,\n",
       " 'e': 11,\n",
       " 'elevadas': 1,\n",
       " 'em': 6,\n",
       " 'empresas': 1,\n",
       " 'encontradas': 1,\n",
       " 'enquanto': 1,\n",
       " 'entanto': 1,\n",
       " 'entre': 1,\n",
       " 'enviaram': 1,\n",
       " 'estado': 1,\n",
       " 'estaria': 1,\n",
       " 'este': 1,\n",
       " 'estimativa': 1,\n",
       " 'estradas': 1,\n",
       " 'está': 1,\n",
       " 'euros': 1,\n",
       " 'feridos': 1,\n",
       " 'fez': 1,\n",
       " 'figueiró': 1,\n",
       " 'florestal': 2,\n",
       " 'fogo': 4,\n",
       " 'foi': 1,\n",
       " 'foram': 3,\n",
       " 'formando': 1,\n",
       " 'frentes': 1,\n",
       " 'fuga': 1,\n",
       " 'governo': 1,\n",
       " 'grande': 5,\n",
       " 'grandes': 1,\n",
       " 'graus': 1,\n",
       " 'grave': 1,\n",
       " 'guarda': 1,\n",
       " 'góis': 2,\n",
       " 'habitantes': 1,\n",
       " 'habitação': 1,\n",
       " 'história': 1,\n",
       " 'horas': 1,\n",
       " 'imediações': 1,\n",
       " 'incêndio': 9,\n",
       " 'intenso': 1,\n",
       " 'internacionais': 1,\n",
       " 'investigar': 1,\n",
       " 'jaime': 1,\n",
       " 'junho': 3,\n",
       " 'juntou-se': 1,\n",
       " 'já': 2,\n",
       " 'leiria': 2,\n",
       " 'liga': 1,\n",
       " 'lugares': 1,\n",
       " 'luto': 1,\n",
       " 'maior': 1,\n",
       " 'mais': 3,\n",
       " 'marta': 1,\n",
       " 'materiais': 1,\n",
       " 'mensagens': 1,\n",
       " 'mesmo': 1,\n",
       " 'milhões': 1,\n",
       " 'militar': 1,\n",
       " 'ministério': 1,\n",
       " 'montante': 1,\n",
       " 'morrido': 1,\n",
       " 'mortais': 1,\n",
       " 'mortos': 2,\n",
       " 'mortífero': 2,\n",
       " 'muito': 2,\n",
       " 'mundial': 1,\n",
       " 'n': 1,\n",
       " 'nacional': 2,\n",
       " 'nas': 2,\n",
       " 'naturais': 1,\n",
       " 'nesta': 1,\n",
       " 'no': 6,\n",
       " 'nos': 1,\n",
       " 'não': 1,\n",
       " 'nível': 1,\n",
       " 'o': 12,\n",
       " 'ocorreu': 1,\n",
       " 'oficial': 1,\n",
       " 'origem': 1,\n",
       " 'ou': 1,\n",
       " 'outro': 1,\n",
       " 'pampilhosa': 2,\n",
       " 'parcial': 1,\n",
       " 'país': 1,\n",
       " 'pedrógão': 5,\n",
       " 'pelas': 1,\n",
       " 'pelo': 1,\n",
       " 'pera': 1,\n",
       " 'perceção': 1,\n",
       " 'por': 1,\n",
       " 'portugal': 3,\n",
       " 'posteriormente': 1,\n",
       " 'postos': 1,\n",
       " 'prejuízos': 2,\n",
       " 'presidente': 1,\n",
       " 'procuradoria-geral': 1,\n",
       " 'propagar': 1,\n",
       " 'proporções': 1,\n",
       " 'provisória': 1,\n",
       " 'provisório': 1,\n",
       " 'pêra': 1,\n",
       " 'público': 1,\n",
       " 'quais': 1,\n",
       " 'que': 6,\n",
       " 'rapidamente': 1,\n",
       " 'republicana': 1,\n",
       " 'república': 1,\n",
       " 'resposta': 1,\n",
       " 'seca': 2,\n",
       " 'segundo': 1,\n",
       " 'sempre': 1,\n",
       " 'serra': 2,\n",
       " 'sertã': 1,\n",
       " 'soares': 1,\n",
       " 'solidariedade': 1,\n",
       " 'suas': 1,\n",
       " 'superiores': 1,\n",
       " 'também': 3,\n",
       " 'temperaturas': 1,\n",
       " 'tendo': 2,\n",
       " 'termos': 1,\n",
       " 'teve': 1,\n",
       " 'total': 1,\n",
       " 'totalmente': 1,\n",
       " 'trabalho': 1,\n",
       " 'trovoada': 2,\n",
       " 'três': 1,\n",
       " 'um': 1,\n",
       " 'uma': 2,\n",
       " 'variável': 1,\n",
       " 'vento': 1,\n",
       " 'vinhos': 1,\n",
       " 'vizinhos': 1,\n",
       " 'voluntário': 1,\n",
       " 'várias': 1,\n",
       " 'vítimas': 1,\n",
       " 'zona': 1,\n",
       " 'à': 1,\n",
       " 'área': 1,\n",
       " 'é': 2}"
      ]
     },
     "execution_count": 17,
     "metadata": {},
     "output_type": "execute_result"
    }
   ],
   "source": [
    "A_arr_corr.sort()\n",
    "C = {}\n",
    "\n",
    "for i, _ in enumerate(A_arr_corr):\n",
    "    if A_arr_corr[i] not in C:\n",
    "        C[A_arr_corr[i]] = 1\n",
    "    else:\n",
    "        C[A_arr_corr[i]] += 1\n",
    "\n",
    "C"
   ]
  },
  {
   "cell_type": "markdown",
   "metadata": {},
   "source": [
    "### Vamos imaginar que gostaríamos de sabes quais as 10 palavras mais usadas\n",
    "\n",
    "Método mais pesado:"
   ]
  },
  {
   "cell_type": "code",
   "execution_count": 231,
   "metadata": {},
   "outputs": [
    {
     "data": {
      "text/plain": [
       "[(41, 'de'),\n",
       " (12, 'o'),\n",
       " (12, 'a'),\n",
       " (11, 'e'),\n",
       " (9, 'incêndio'),\n",
       " (8, 'da'),\n",
       " (6, 'que'),\n",
       " (6, 'no'),\n",
       " (6, 'em'),\n",
       " (5, 'pedrógão'),\n",
       " (5, 'grande'),\n",
       " (5, 'do'),\n",
       " (5, 'distrito'),\n",
       " (5, 'concelho'),\n",
       " (4, 'fogo'),\n",
       " (4, 'ao'),\n",
       " (3, 'também'),\n",
       " (3, 'portugal'),\n",
       " (3, 'mais'),\n",
       " (3, 'junho'),\n",
       " (3, 'foram'),\n",
       " (3, 'dos'),\n",
       " (3, 'civis'),\n",
       " (3, 'bombeiros'),\n",
       " (2, 'é'),\n",
       " (2, 'uma'),\n",
       " (2, 'trovoada'),\n",
       " (2, 'tendo'),\n",
       " (2, 'serra'),\n",
       " (2, 'seca'),\n",
       " (2, 'prejuízos'),\n",
       " (2, 'pampilhosa'),\n",
       " (2, 'nas'),\n",
       " (2, 'nacional'),\n",
       " (2, 'muito'),\n",
       " (2, 'mortífero'),\n",
       " (2, 'mortos'),\n",
       " (2, 'leiria'),\n",
       " (2, 'já'),\n",
       " (2, 'góis'),\n",
       " (2, 'florestal'),\n",
       " (2, 'dia'),\n",
       " (2, 'deflagrou'),\n",
       " (2, 'concelhos'),\n",
       " (2, 'com'),\n",
       " (2, 'coimbra'),\n",
       " (2, 'causas'),\n",
       " (2, 'castanheira'),\n",
       " (2, 'autoridades'),\n",
       " (2, 'as'),\n",
       " (2, 'aos'),\n",
       " (1, 'área'),\n",
       " (1, 'à'),\n",
       " (1, 'zona'),\n",
       " (1, 'vítimas'),\n",
       " (1, 'várias'),\n",
       " (1, 'voluntário'),\n",
       " (1, 'vizinhos'),\n",
       " (1, 'vinhos'),\n",
       " (1, 'vento'),\n",
       " (1, 'variável'),\n",
       " (1, 'um'),\n",
       " (1, 'três'),\n",
       " (1, 'trabalho'),\n",
       " (1, 'totalmente'),\n",
       " (1, 'total'),\n",
       " (1, 'teve'),\n",
       " (1, 'termos'),\n",
       " (1, 'temperaturas'),\n",
       " (1, 'superiores'),\n",
       " (1, 'suas'),\n",
       " (1, 'solidariedade'),\n",
       " (1, 'soares'),\n",
       " (1, 'sertã'),\n",
       " (1, 'sempre'),\n",
       " (1, 'segundo'),\n",
       " (1, 'resposta'),\n",
       " (1, 'república'),\n",
       " (1, 'republicana'),\n",
       " (1, 'rapidamente'),\n",
       " (1, 'quais'),\n",
       " (1, 'público'),\n",
       " (1, 'pêra'),\n",
       " (1, 'provisório'),\n",
       " (1, 'provisória'),\n",
       " (1, 'proporções'),\n",
       " (1, 'propagar'),\n",
       " (1, 'procuradoria-geral'),\n",
       " (1, 'presidente'),\n",
       " (1, 'postos'),\n",
       " (1, 'posteriormente'),\n",
       " (1, 'por'),\n",
       " (1, 'perceção'),\n",
       " (1, 'pera'),\n",
       " (1, 'pelo'),\n",
       " (1, 'pelas'),\n",
       " (1, 'país'),\n",
       " (1, 'parcial'),\n",
       " (1, 'outro'),\n",
       " (1, 'ou'),\n",
       " (1, 'origem'),\n",
       " (1, 'oficial'),\n",
       " (1, 'ocorreu'),\n",
       " (1, 'nível'),\n",
       " (1, 'não'),\n",
       " (1, 'nos'),\n",
       " (1, 'nesta'),\n",
       " (1, 'naturais'),\n",
       " (1, 'n'),\n",
       " (1, 'mundial'),\n",
       " (1, 'mortais'),\n",
       " (1, 'morrido'),\n",
       " (1, 'montante'),\n",
       " (1, 'ministério'),\n",
       " (1, 'militar'),\n",
       " (1, 'milhões'),\n",
       " (1, 'mesmo'),\n",
       " (1, 'mensagens'),\n",
       " (1, 'materiais'),\n",
       " (1, 'marta'),\n",
       " (1, 'maior'),\n",
       " (1, 'luto'),\n",
       " (1, 'lugares'),\n",
       " (1, 'liga'),\n",
       " (1, 'juntou-se'),\n",
       " (1, 'jaime'),\n",
       " (1, 'investigar'),\n",
       " (1, 'internacionais'),\n",
       " (1, 'intenso'),\n",
       " (1, 'imediações'),\n",
       " (1, 'horas'),\n",
       " (1, 'história'),\n",
       " (1, 'habitação'),\n",
       " (1, 'habitantes'),\n",
       " (1, 'guarda'),\n",
       " (1, 'grave'),\n",
       " (1, 'graus'),\n",
       " (1, 'grandes'),\n",
       " (1, 'governo'),\n",
       " (1, 'fuga'),\n",
       " (1, 'frentes'),\n",
       " (1, 'formando'),\n",
       " (1, 'foi'),\n",
       " (1, 'figueiró'),\n",
       " (1, 'fez'),\n",
       " (1, 'feridos'),\n",
       " (1, 'euros'),\n",
       " (1, 'está'),\n",
       " (1, 'estradas'),\n",
       " (1, 'estimativa'),\n",
       " (1, 'este'),\n",
       " (1, 'estaria'),\n",
       " (1, 'estado'),\n",
       " (1, 'enviaram'),\n",
       " (1, 'entre'),\n",
       " (1, 'entanto'),\n",
       " (1, 'enquanto'),\n",
       " (1, 'encontradas'),\n",
       " (1, 'empresas'),\n",
       " (1, 'elevadas'),\n",
       " (1, 'durante'),\n",
       " (1, 'duas'),\n",
       " (1, 'dias'),\n",
       " (1, 'dezenas'),\n",
       " (1, 'destruídas'),\n",
       " (1, 'desde'),\n",
       " (1, 'desastre'),\n",
       " (1, 'deflagrar'),\n",
       " (1, 'decretou'),\n",
       " (1, 'das'),\n",
       " (1, 'criança'),\n",
       " (1, 'contígua'),\n",
       " (1, 'contabilizou'),\n",
       " (1, 'contabilizadas'),\n",
       " (1, 'conjugada'),\n",
       " (1, 'confirmou'),\n",
       " (1, 'como'),\n",
       " (1, 'celsius'),\n",
       " (1, 'causa'),\n",
       " (1, 'catástrofe'),\n",
       " (1, 'castelo'),\n",
       " (1, 'casas'),\n",
       " (1, 'branco'),\n",
       " (1, 'bombeiro'),\n",
       " (1, 'balanço'),\n",
       " (1, 'automóveis'),\n",
       " (1, 'ativo'),\n",
       " (1, 'ascende'),\n",
       " (1, 'arrasou'),\n",
       " (1, 'arganil'),\n",
       " (1, 'ardida'),\n",
       " (1, 'apontada'),\n",
       " (1, 'antes'),\n",
       " (1, 'ansião'),\n",
       " (1, 'alvaiázere'),\n",
       " (1, 'altura'),\n",
       " (1, 'alguns'),\n",
       " (1, 'alastrar'),\n",
       " (1, 'alastrado'),\n",
       " (1, 'afectadas'),\n",
       " (1, 'acredita'),\n",
       " (1, 'acabou')]"
      ]
     },
     "execution_count": 231,
     "metadata": {},
     "output_type": "execute_result"
    }
   ],
   "source": [
    "# que coisa manhosa... vamos ver como fazer isto com Pandas na proxima aula...\n",
    "D = [(v,k) for k,v in C.items()]\n",
    "\n",
    "D.sort(reverse=True)\n",
    "D"
   ]
  },
  {
   "cell_type": "markdown",
   "metadata": {
    "slideshow": {
     "slide_type": "slide"
    }
   },
   "source": [
    "---\n",
    "\n",
    "#### Problems in Big Data Scenario?\n",
    "\n",
    "---\n",
    "\n",
    "- If Initial File too large for memory?\n",
    "- If Initial File too large for memory and `<k,v`> too large for memory?\n",
    "- If Processing is too large for memory/CPU?"
   ]
  },
  {
   "cell_type": "markdown",
   "metadata": {},
   "source": [
    "# 2) Simple Average Calculation\n",
    "\n",
    "consider "
   ]
  },
  {
   "cell_type": "code",
   "execution_count": 18,
   "metadata": {},
   "outputs": [
    {
     "name": "stdout",
     "output_type": "stream",
     "text": [
      "[ 0.05394205  0.56777288  0.30193964  0.92661674  0.67625688  0.02032483\n",
      "  0.51885369  0.84144541  0.94744546  0.55222146]\n"
     ]
    },
    {
     "data": {
      "text/plain": [
       "0.53821149197147944"
      ]
     },
     "execution_count": 18,
     "metadata": {},
     "output_type": "execute_result"
    }
   ],
   "source": [
    "import numpy as np\n",
    "A = np.random.random([100,1])\n",
    "print(A[:10,0])\n",
    "\n",
    "A.mean()"
   ]
  },
  {
   "cell_type": "code",
   "execution_count": 19,
   "metadata": {
    "slideshow": {
     "slide_type": "slide"
    }
   },
   "outputs": [
    {
     "data": {
      "text/plain": [
       "0.53821149197147955"
      ]
     },
     "execution_count": 19,
     "metadata": {},
     "output_type": "execute_result"
    }
   ],
   "source": [
    "#podemos recorrer à definição para fazer este processo em duas fazes\n",
    "\n",
    "####\n",
    "# Parallel!\n",
    "ct=0\n",
    "sm = 0\n",
    "for a in A[:,0]:\n",
    "    ct += 1\n",
    "    sm += a\n",
    "    \n",
    "#######\n",
    "\n",
    "sm/ct  # Parallel?"
   ]
  },
  {
   "cell_type": "markdown",
   "metadata": {
    "slideshow": {
     "slide_type": "slide"
    }
   },
   "source": [
    "# 3) Conditional Probability Calculation $P(X|Y)$\n",
    "---\n",
    "Consider the following problem: \n",
    "\n",
    "\n",
    "<img src=\"images/P_AaposB.png\" style=\"width:40%\"/>\n",
    "\n",
    "dois baldes de cor diferente $B \\in \\{\"red\",\"blue\"\\}$  e Frutas com duas cores $ F=  \\in \\{\"orange\",\"green\"\\}$ \n",
    "\n",
    "Considere-se que C e B são variáveis aleatórias e $P(F|B)$ corresponde a \n",
    "\n",
    "$$P(Fruit=\"?\" | Balde=\"?\")$$\n"
   ]
  },
  {
   "cell_type": "markdown",
   "metadata": {
    "slideshow": {
     "slide_type": "slide"
    }
   },
   "source": [
    "\n",
    "$$P(F = \"green\") = P(F = \"green\"| B=\"red\")*P(B=\"red\") + P(F = \"green\"| B=\"blue\")*P(B=\"blue\")$$\n",
    "\n",
    "ou seja, \n",
    "\n",
    "$$P(F = \"green\") = 5/12 = 2/8 \\times 1/2 + 3/4 \\times 1/2 = 5/12$$\n",
    "\n",
    "Assim, $$P(F = \"green\") = \\sum_j P(F = \"green\"|B_j) . P(B_j)$$\n",
    "\n",
    "onde $B_j$ é cada tipo de balde $j$\n",
    "\n",
    "Os dados podem ser colocados deste forma:\n",
    "\n",
    "<img src=\"images/P_AaposB_2_2_base.png\" style=\"width:40%\"/>\n"
   ]
  },
  {
   "cell_type": "markdown",
   "metadata": {
    "slideshow": {
     "slide_type": "slide"
    }
   },
   "source": [
    "Considere-se a seguinte matriz A:\n",
    "\n",
    "\n",
    "A= <img src=\"images/P_AaposB_2_2.png\" style=\"width:20%\"/>\n",
    "\n",
    "\n",
    "Nesta matriz estão representadas as seguintes entradas:\n",
    "\n",
    "$b_{j}$ = Quantidade total de frutas no balde $j$, qualquer que seja a cor da fruta ($f_i$);\n",
    "\n",
    "$f_{i}$ = Quantidade total de frutas da cor $i$, qualquer que seja o balde ($b_j$);\n",
    "\n",
    "$n_{ij}$ = quantidades de fruta para cada par {balde,cor da fruta};\n",
    "\n",
    "N = Quantidades totais de peças de fruta; \n",
    "\n",
    "$$P(F = \"g\", B=\"r\") = n_{ij}/N$$\n",
    "\n",
    "$$P(B=\"r\") = B_{j}/N$$\n",
    "\n",
    "$$P(F=\"g\") = F_{i}/N$$\n",
    "\n",
    "\n",
    "---\n",
    "\n",
    "Tal como tínhamos visto, é simples ver que verificar antes de mais que \n",
    "\n",
    "$$P(F = \"green\") = P(F = \"green\", B=\"red\") + P(F = \"green\", B=\"blue\")$$\n",
    "\n",
    "Que pode ser escrita de forma mais formal como\n",
    "\n",
    "$$P(X) = \\sum_Y P(X,Y)$$\n",
    "\n",
    "---\n",
    "\n",
    "Por outro lado\n",
    "\n",
    "$$P(F = \"g\"|B=\"r\") = n_{ij}/F_{j}$$\n",
    "\n",
    "ou seja, \n",
    "\n",
    "\n",
    "$$P(F = \"g\", B=\"r\") = P(F = \"g\"| B=\"r\").P(B=\"r\")$$\n",
    "\n",
    "Que é equivalente a \n",
    "\n",
    "$$P(F = \"g\"|B=\"r\") = P(F = \"g\", B=\"r\")/P(B=\"r\")$$\n",
    "\n",
    "ou seja, \n",
    "\n",
    "$$P(X|Y) = \\frac{P(X,Y)}{P(Y)}$$"
   ]
  },
  {
   "cell_type": "markdown",
   "metadata": {},
   "source": [
    "Concluindo, as regras fundamentais da estatística Bayesiana são:\n",
    "\n",
    "\n",
    "$$P(X) = \\sum_Y P(X,Y)$$\n",
    "$$P(X,Y) = P(X|Y).P(Y)$$\n",
    "\n",
    "a última é equivalente a \n",
    "\n",
    "$$P(X|Y) = \\frac{P(X,Y)}{P(Y)}$$\n",
    "\n",
    "\n"
   ]
  },
  {
   "cell_type": "markdown",
   "metadata": {
    "slideshow": {
     "slide_type": "slide"
    }
   },
   "source": [
    "### Porque é que isto é útil no que diz respeito a criar estimativas?\n",
    "\n",
    "Vamos imaginar um cenário em que eu quero estimar o balde de origem (problema de classificação)\n",
    "1. sem mais informação senão das frutas existentes em cada balde;\n",
    "2. com base na cor da peça de fruta retirada \n",
    "\n",
    "**São conhecidas as quantidades de fruta de cada cor em cada balde (consigo preencher a matriz A!)**\n",
    "\n",
    "---\n",
    "\n",
    "1)\n",
    "\n",
    "No primeiro cenario a melhor estimativa que temos é \n",
    "\n",
    "$$Max(P(B_j))$$\n",
    "\n",
    "A esta estimativa chama-se estimativa à priori (**Prior Estimate**)\n",
    "\n",
    "---\n",
    "\n",
    "2)  \n",
    "\n",
    "No entanto, se nos disserem que tiraram uma fruta $green$ eu posso concluir uma **Posterior Estimate** em relação ao balde que:\n",
    "\n",
    "$$P(B=blue| F = green) = \\frac{P(B=blue,F=green,)}{P(B=blue)} = 3/12*12/4 = 3/4$$\n",
    "\n",
    "\n",
    "$$P(B=red| F = green) = \\frac{P(B=orange,F=blue)}{P(B=blue)} = 1/4 $$\n",
    "\n",
    "Portanto, a mais provavel é dada por \n",
    "\n",
    "$$Max(P(B_j|F=green))$$\n",
    "\n",
    "\n",
    "que a fruta seja $green$ e a minha estimativa à posteriori (após saber a cor da fruta) é de 12/144\n",
    "\n",
    "Este método chama-se MAP (maximum à posteriori) e permite maximizar a probabilidade \n"
   ]
  },
  {
   "cell_type": "markdown",
   "metadata": {
    "slideshow": {
     "slide_type": "slide"
    }
   },
   "source": [
    "\n",
    "### Vamos imaginar um cenário mais realista. \n",
    "\n",
    "----\n",
    "\n",
    "Não conhecemos a matriz A (por exemplo porque nao tenho acesso a esses dados todos ou porque sao muitos - imaginem milhares de cores e milhares de baldes...)\n",
    "\n",
    "mas consigo fazer algumas amostragens. Por exemplo, posso tirar frutas de um balde azul e ver a cor, ou seja, consigo estimar o valor de \n",
    "\n",
    "$$P(F_i|B=blue)$$\n",
    "\n",
    "**Mas isto é obtido sem saber a minha matriz A! Estas probabilidades chamam-se de verosimilhança (likelihood)**\n",
    "\n",
    "\n",
    "Não conhecendo a matriz A, Qual será a melhor estimativa quando vos perguntarem de que balde saiu a fruta, sabendo as probabilidades $P(F_i|B)$ ??\n",
    "\n",
    "**Este é um problema de inferência que necessita do Teorema de Bayes para ser bem resolvido**\n",
    "\n"
   ]
  },
  {
   "cell_type": "markdown",
   "metadata": {
    "slideshow": {
     "slide_type": "slide"
    }
   },
   "source": [
    "Vamos primeiro juntar a regra do produto com a propriedade $P(X,Y) = P(Y,X)$, obtendo:\n",
    "\n",
    "$$P(X,Y) = P(X|Y)P(Y) = P(Y,X) = P(Y|X)P(X)$$\n",
    "\n",
    "ou seja, \n",
    "\n",
    "$$P(Y|X)P(X) = P(X|Y)P(Y)$$\n",
    "\n",
    "e por isso (Teorema de Bayes):\n",
    "\n",
    "$$P(Y|X) = \\frac{P(X|Y)P(Y)}{P(X)}$$\n",
    "\n",
    "> Reparem que nao precisamos da Matriz A para determinar P(Y|X): usamos P(X|Y), ou seja, as nossas probabilidades previamente \"experimentadas\"!"
   ]
  },
  {
   "cell_type": "markdown",
   "metadata": {
    "slideshow": {
     "slide_type": "slide"
    }
   },
   "source": [
    "### Vamos ganhar intuição sobre este teorema com base no problema dos frutos\n",
    "\n",
    "A probabilidade de $F=green$ ser encontrada após $X(balde) = blue$ ou seja, após o balde ter sido previamente conhecido como $blue$ é igual a $\\frac{n_{0,2}}{b_2}$ (que vem de $P(X|Y) = \\frac{P(X,Y)}{P(Y)}$ ou se percebe por análise da matriz A)\n",
    "\n",
    "<img src=\"images/P_AaposB_3_3.png\" style=\"width:40%\"/>\n",
    "\n",
    "**mas como pode obter este mesmo valor se só tivermos a informação de** $P(B = blue | F=green)$?\n",
    "\n",
    "\n",
    "Esta é dada pelo racio $$\\frac{n_{0,2}}{f_0}$$ e queremos chegar a $\\frac{n_{0,2}}{b_2}$\n",
    "\n",
    "Portanto, multiplicando por $P(B=blue)$ dado por $b_2/N$ obtemos\n",
    "\n",
    "$$P(B = blue | F=green)P(B=blue) = \\frac{n_{0,2}}{N}$$ \n",
    "\n",
    "e basta agora dividir por $P(F=green)$ dado por $f_0/N$ para chegarmos a \n",
    "\n",
    "$$\\frac{P(B = blue | F=green)P(B=blue)}{P(F=green)} = \\frac{n_{0,2}}{f_0}$$ \n",
    "\n",
    "\n",
    "\n"
   ]
  },
  {
   "cell_type": "markdown",
   "metadata": {
    "slideshow": {
     "slide_type": "slide"
    }
   },
   "source": [
    "### Problems in Big Data Scenario For Bayesian Statistics?\n",
    "\n",
    "\n",
    "- Caso a matriz em causa seja muito grande temos que somar e multiplicar dados \"densos\";\n",
    "- Caso não haja sequer matriz, é necessário calcular P(X|Y) como likelihood Probability - isto é dificil de calcular!?\n",
    "\n",
    "---\n",
    "\n",
    "**Resposta:** com muitos dados sim, repare-se que é necessário conhecer cada um dos $(i,j)$ valores de\n",
    "\n",
    "$$P(Y_j|X_i) = \\frac{n_{i,j}}{\\sum_j{n_{i,j}}}$$ \n",
    "\n",
    "que são cálculos de rácios de ocorrências (que obriga a contagem de ocorrencias distintas e a rácios tipo média)\n",
    "\n",
    "\n",
    "- É ainda preciso conhecer valores de $P(Y)$ e $P(X)$"
   ]
  },
  {
   "cell_type": "markdown",
   "metadata": {
    "slideshow": {
     "slide_type": "slide"
    }
   },
   "source": [
    "# Bonferroni’s principle\n",
    "\n",
    "---\n",
    "\n",
    "A risk with “Data mining” is that an analyst can “discover” patterns that are meaningless.\n",
    "\n",
    "Statisticians call it Bonferroni’s principle:\n",
    "\n",
    "> Roughly, if you look in more places for interesing patterns than your amount of data will support, you are bound to find crap!\n",
    "\n",
    "---\n",
    "\n",
    "#### Example: \n",
    "\n",
    "> We want to find people that have meetings in hotels to plan criminal acts. So, (unrelated) people who went to the same hotel **at least twice** and both **have stayed (maybe planning something) at the same hotel on the same day**\n",
    "\n",
    "> Consider: \n",
    "\n",
    ">   - $10^9$ people being tracked (people staying in hotels)\n",
    ">   - Analysis is done during 1,000 days\n",
    ">   - From data we see that each person stays in average in a hotel 1% of time (1 day out of 100, 3,65 days per year) \n",
    ">   - Hotels hold 100 people in average (so $10^5$ hotels)\n",
    "\n",
    "---\n",
    "#### If everyone behaves randomly (i.e., no criminals at all doing this planning at hotels) will the data mining detect anything suspicious? \n",
    "\n",
    "> YES! That is the problem. \n",
    "> Let's see why, using simple probability calculations for the scenario where there is no criminal meetings\n",
    "\n",
    "The probability of having a specific person in any hotel in a **given** day:\n",
    "\n",
    "$$P(p) = 1/100* =0,01$$\n",
    "\n",
    "What is the probability of having any 2 persons going to an hotel in a **given** day?\n",
    "\n",
    "$$P(2p) = P(p)*P(p) = 0,0001$$\n",
    "\n",
    "And the probability of having both persons in the same hotel (any hotal in a **given** day)?\n",
    "\n",
    "$$P(2ph) = 0,0001/10^5 = 10^{-9}$$\n",
    "\n",
    "How about having this meeting twice in two given days (hotels can be different)? This can be written as:\n",
    "\n",
    "$$P(T) = P(phd)P(phd) = 10^{-9}\\times 10^{-9} = 10^{-18}$$\n",
    "\n",
    "> Que é uma probabilidade ínfima! \n",
    "\n",
    "No entanto, para percebermos quantas vezes isto se espera que aconteça em 1000 dias, temos que contabilizar todos os pares de pessoas e todos os pares de dias possiveis:\n",
    "\n",
    "O número de pares de pessoas é dado por pela combinação\n",
    "\n",
    "$$\n",
    "\\begin{pmatrix} \n",
    "10^9\\\\\n",
    "2\\\\\n",
    "\\end{pmatrix} \\approx 5×10^{17}\n",
    "$$\n",
    "\n",
    "O número de pares de dias é dado por pela combinação\n",
    "\n",
    "$$\n",
    "\\begin{pmatrix} \n",
    "1000\\\\\n",
    "2\\\\\n",
    "\\end{pmatrix} \\approx 5×10^5\n",
    "$$\n",
    "\n",
    "Assim, o número de eventos (encontros) que se assemelham a pessoas a planear um crime é de $5×10^{17} ×5×10^5 ×10^{−18} \\approx 250000$"
   ]
  },
  {
   "cell_type": "markdown",
   "metadata": {},
   "source": [
    "### Conclusions:\n",
    "\n",
    "\n",
    "- Feasible models are the ones that are executable - in this case, not even close  (a quarter of a million people as suspects...) \n",
    "\n",
    "- **Allways know your baseline statistics !!!**"
   ]
  },
  {
   "cell_type": "markdown",
   "metadata": {},
   "source": [
    "# 4) Relational Data\n",
    "\n",
    "**Relational Algebra**\n",
    "\n",
    "- Projection(π) (select columns)\n",
    "- Selection(σ) (select rows)\n",
    "- Cartesianproduct(×)    \n",
    "- Setunion(∪)\n",
    "- Setdifference(-)\n",
    "- Rename(ρ)\n",
    "- Join(⋈)\n",
    "- Groupby...aggregation    \n",
    "\n",
    "This is revision...."
   ]
  }
 ],
 "metadata": {
  "celltoolbar": "Slideshow",
  "kernelspec": {
   "display_name": "Python 3",
   "language": "python",
   "name": "python3"
  },
  "language_info": {
   "codemirror_mode": {
    "name": "ipython",
    "version": 3
   },
   "file_extension": ".py",
   "mimetype": "text/x-python",
   "name": "python",
   "nbconvert_exporter": "python",
   "pygments_lexer": "ipython3",
   "version": "3.6.0"
  }
 },
 "nbformat": 4,
 "nbformat_minor": 2
}
