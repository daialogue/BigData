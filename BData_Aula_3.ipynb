{
 "cells": [
  {
   "cell_type": "markdown",
   "metadata": {},
   "source": [
    "# Big Data - Aula 3 \n",
    "\n",
    "---\n",
    "\n",
    "## Aula Prática: Python for DataScientists - Python+Numpy\n",
    "\n",
    "## Algoritmic Concepts Revision and Distributed Computing Challenges\n",
    "\n",
    "---"
   ]
  },
  {
   "cell_type": "markdown",
   "metadata": {
    "collapsed": true,
    "slideshow": {
     "slide_type": "slide"
    }
   },
   "source": [
    "Nesta aula vamos fazer alguns exercícios de Python e aprender a trabalhar com três módulos:\n",
    "- **Numpy** - módulo de python para cálculos numéricos e matriciais.\n",
    "- **Pandas** - módulo de python para executar agregações, filtragens manipulação de dados sequenciais ou tabulares (semelhante ao executado pelas queries em SQL)\n",
    "- **Sklearn** - módulo de machine learning/Data mining"
   ]
  },
  {
   "cell_type": "markdown",
   "metadata": {
    "slideshow": {
     "slide_type": "slide"
    }
   },
   "source": [
    "# Exemplos básicos do uso de python\n",
    "---\n"
   ]
  },
  {
   "cell_type": "code",
   "execution_count": 5,
   "metadata": {},
   "outputs": [
    {
     "name": "stdout",
     "output_type": "stream",
     "text": [
      "Hello World!!!\n"
     ]
    }
   ],
   "source": [
    "# Hello World\n",
    "\n",
    "print (\"Hello World!!!\")\n",
    "s = 2\n",
    "t =3"
   ]
  },
  {
   "cell_type": "code",
   "execution_count": 6,
   "metadata": {},
   "outputs": [
    {
     "data": {
      "text/plain": [
       "2"
      ]
     },
     "execution_count": 6,
     "metadata": {},
     "output_type": "execute_result"
    }
   ],
   "source": [
    "#Criar uma lista (array)\n",
    "A= [1,2,3,4,5]\n",
    "A[1]"
   ]
  },
  {
   "cell_type": "code",
   "execution_count": 1,
   "metadata": {},
   "outputs": [
    {
     "ename": "KeyError",
     "evalue": "140",
     "output_type": "error",
     "traceback": [
      "\u001b[0;31m---------------------------------------------------------------------------\u001b[0m",
      "\u001b[0;31mKeyError\u001b[0m                                  Traceback (most recent call last)",
      "\u001b[0;32m<ipython-input-1-3bb8cfc7b91a>\u001b[0m in \u001b[0;36m<module>\u001b[0;34m\u001b[0m\n\u001b[0;32m----> 1\u001b[0;31m \u001b[0mOut\u001b[0m\u001b[0;34m[\u001b[0m\u001b[0;36m140\u001b[0m\u001b[0;34m]\u001b[0m\u001b[0;34m\u001b[0m\u001b[0m\n\u001b[0m",
      "\u001b[0;31mKeyError\u001b[0m: 140"
     ]
    }
   ],
   "source": [
    "Out[140]"
   ]
  },
  {
   "cell_type": "code",
   "execution_count": null,
   "metadata": {
    "collapsed": true
   },
   "outputs": [],
   "source": [
    "import random\n",
    "\n",
    "\n",
    "a = [3]*10\n",
    "a\n",
    "\n",
    "b = [random.random() for i in range(10)]\n",
    "b\n",
    "\n",
    "[random.random()*10, random.random()*10, random.random()*100-50]"
   ]
  },
  {
   "cell_type": "code",
   "execution_count": null,
   "metadata": {
    "collapsed": true
   },
   "outputs": [],
   "source": [
    "for i in range(7,10):\n",
    "    print (i)\n",
    "    "
   ]
  },
  {
   "cell_type": "code",
   "execution_count": null,
   "metadata": {
    "collapsed": true,
    "slideshow": {
     "slide_type": "slide"
    }
   },
   "outputs": [],
   "source": [
    "N = [n for n in range(3)]\n",
    "\n",
    "print(N)\n",
    "type(N)\n",
    "\n",
    "?N.pop"
   ]
  },
  {
   "cell_type": "code",
   "execution_count": null,
   "metadata": {
    "collapsed": true
   },
   "outputs": [],
   "source": [
    "#criar uma função\n",
    "def teste(N):\n",
    "    X = []\n",
    "    for n in N:\n",
    "        X.append(n**2)\n",
    "    return X\n",
    "\n",
    "#chamar a função\n",
    "teste([3,4,5])"
   ]
  },
  {
   "cell_type": "code",
   "execution_count": null,
   "metadata": {
    "collapsed": true
   },
   "outputs": [],
   "source": [
    "N = [1,2,3,4,5,6,7]\n",
    "\n",
    "[n**2 for n in N if (n**2)%2==0]\n",
    "\n",
    "N[0:5]"
   ]
  },
  {
   "cell_type": "code",
   "execution_count": null,
   "metadata": {
    "collapsed": true
   },
   "outputs": [],
   "source": [
    "N[0:5:2]"
   ]
  },
  {
   "cell_type": "code",
   "execution_count": null,
   "metadata": {
    "collapsed": true,
    "slideshow": {
     "slide_type": "slide"
    }
   },
   "outputs": [],
   "source": [
    "print(N)\n",
    "N[5:2:-1]\n"
   ]
  },
  {
   "cell_type": "code",
   "execution_count": null,
   "metadata": {
    "collapsed": true
   },
   "outputs": [],
   "source": [
    "#Criar um dictionary\n",
    "A = {\"foo\":123,\"bar\":456}\n",
    "print(A.keys())\n",
    "print(A.values())\n",
    "print(A.items())\n",
    "A"
   ]
  },
  {
   "cell_type": "code",
   "execution_count": null,
   "metadata": {
    "collapsed": true
   },
   "outputs": [],
   "source": [
    "[[1,2,3],[4,5,6]]"
   ]
  },
  {
   "cell_type": "code",
   "execution_count": null,
   "metadata": {
    "collapsed": true
   },
   "outputs": [],
   "source": [
    "# Conceito de Broadcast em numpy\n",
    "\n",
    "import numpy as np\n",
    "\n",
    "X = np.array([[1,2,3],[4,5,6]])\n",
    "Y = np.array([[1,2,2]])\n",
    "Z = np.array([[1],[2],[3]])\n",
    "print(X.shape)\n",
    "print(Y.shape)\n",
    "print(Z.shape)\n",
    "\n",
    "#matriz transposta\n",
    "print(Z)\n",
    "Z.T"
   ]
  },
  {
   "cell_type": "code",
   "execution_count": null,
   "metadata": {
    "collapsed": true
   },
   "outputs": [],
   "source": [
    "np.random.random([4,4])"
   ]
  },
  {
   "cell_type": "code",
   "execution_count": null,
   "metadata": {
    "collapsed": true
   },
   "outputs": [],
   "source": [
    "np.ones([3,3])*[3]"
   ]
  },
  {
   "cell_type": "code",
   "execution_count": null,
   "metadata": {
    "collapsed": true
   },
   "outputs": [],
   "source": [
    "np.zeros([4,4])"
   ]
  },
  {
   "cell_type": "code",
   "execution_count": null,
   "metadata": {
    "collapsed": true
   },
   "outputs": [],
   "source": [
    "np.array([range(10)]).reshape(10,1)"
   ]
  },
  {
   "cell_type": "code",
   "execution_count": null,
   "metadata": {
    "collapsed": true
   },
   "outputs": [],
   "source": [
    "#exemplo de broadcast 1\n",
    "print(X)\n",
    "print(\"----\")\n",
    "#print(Y)\n",
    "#print(\"----\")\n",
    "\n",
    "Z = X*[2,0,1]\n",
    "\n",
    "#print(X.shape)\n",
    "#print(Y.shape)\n",
    "\n",
    "Z"
   ]
  },
  {
   "cell_type": "code",
   "execution_count": null,
   "metadata": {
    "collapsed": true
   },
   "outputs": [],
   "source": [
    "A = np.array([[1,2,3,4,5,6],[1,1,1,1,1,1]])\n",
    "print(A)\n",
    "B = np.array([[3],[4]])\n",
    "print(B)\n",
    "\n",
    "A*B              "
   ]
  },
  {
   "cell_type": "code",
   "execution_count": null,
   "metadata": {
    "collapsed": true
   },
   "outputs": [],
   "source": [
    "#exemplo de broadcast 2\n",
    "Y = np.array([[2], [1]])\n",
    "Z = X*Y\n",
    "print(X.shape)\n",
    "print(Y.shape)\n",
    "\n",
    "Z"
   ]
  },
  {
   "cell_type": "code",
   "execution_count": null,
   "metadata": {
    "collapsed": true
   },
   "outputs": [],
   "source": [
    "#exemplo de broadcast falhado\n",
    "Y = np.array([[1,2]])\n",
    "print(X)\n",
    "print(Y)\n",
    "Z = X*Y.T\n",
    "Z"
   ]
  },
  {
   "cell_type": "markdown",
   "metadata": {},
   "source": [
    "# Mais informação para melhorar a aula da hoje (e fazer os TPCs):\n",
    "    \n",
    "- python: http://docs.python-guide.org/en/latest/\n",
    "- numpy: https://docs.scipy.org/doc/numpy-dev/user/quickstart.html\n"
   ]
  },
  {
   "cell_type": "markdown",
   "metadata": {
    "slideshow": {
     "slide_type": "slide"
    }
   },
   "source": [
    "# Algoritmic Concepts Revision and Distributed Computing Challenges\n",
    "\n",
    "## PARTE 1\n",
    "---\n"
   ]
  },
  {
   "cell_type": "markdown",
   "metadata": {
    "slideshow": {
     "slide_type": "slide"
    }
   },
   "source": [
    "# Simple, Often Used, Algorihtms\n",
    "---\n",
    "\n",
    "## 1) Analysing Text - Counting Distinct Occorrences \n",
    "---\n",
    "\n",
    "### We have a huge text document    \n",
    "Count the number of times each distinct word appears in the file\n",
    "\n",
    "### Application Example:\n",
    "\n",
    "Analyze web server logs to find popular URLs"
   ]
  },
  {
   "cell_type": "code",
   "execution_count": null,
   "metadata": {
    "slideshow": {
     "slide_type": "slide"
    }
   },
   "outputs": [],
   "source": [
    "A = \"O incêndio florestal de Pedrógão Grande deflagrou a 17 de junho de 2017 no concelho de Pedrógão Grande, no distrito de Leiria, em Portugal, tendo alastrado aos concelhos vizinhos de Castanheira de Pêra, Figueiró dos Vinhos, Ansião e Alvaiázere (também distrito de Leiria); ao concelho da Sertã (distrito de Castelo Branco); ao concelho de Pampilhosa da Serra (distrito de Coimbra). No mesmo dia deflagrou outro incêndio de grandes proporções no concelho de Góis, distrito de Coimbra, que acabou posteriormente por alastrar aos concelhos de Pampilhosa da Serra e de Arganil. No dia 20 de Junho de 2017 uma das frentes de fogo do incêndio de Pedrógão Grande juntou-se ao incêndio de Góis, formando uma área ardida contígua. O desastre é o maior incêndio florestal de sempre em Portugal, o mais mortífero da história do país e o 11.º mais mortífero a nível mundial desde 1900. Um balanço provisório contabilizou 64 mortos (63 civis e 1 bombeiro voluntário de Castanheira de Pera) e 254 feridos (241 civis, 12 bombeiros e 1 militar da Guarda Nacional Republicana), dos quais 7 em estado grave (4 bombeiros, 2 civis e 1 criança). Entre as vítimas mortais, 47 foram encontradas nas estradas do concelho de Pedrógão Grande, tendo 30 morrido nos automóveis e 17 nas suas imediações durante a fuga ao incêndio. O incêndio também arrasou dezenas de lugares. O nº oficial é de 64 mortos. Em termos de prejuízos materiais, foram contabilizadas mais de 500 casas de habitação parcial ou totalmente destruídas pelo fogo. Foram também afectadas 48 empresas com 372 postos de trabalho. A estimativa provisória do montante total de prejuízos ascende a 500 milhões de euros. A causa apontada pelas autoridades foi trovoada seca que, conjugada com temperaturas muito elevadas (superiores a 40 graus Celsius) e vento muito intenso e variável, fez deflagrar e propagar rapidamente o fogo. No entanto, o presidente da Liga dos Bombeiros, Jaime Marta Soares, acredita que este incêndio não teve origem em causas naturais já que, segundo a perceção de alguns habitantes de Pedrógão Grande, o fogo já estaria ativo duas horas antes da altura em que ocorreu a trovoada seca nesta zona. A Procuradoria-Geral da República confirmou que o Ministério Público está a investigar as causas do incêndio. Como resposta à catástrofe, o governo de Portugal decretou três dias de luto nacional, de 18 a 20 de junho de 2017, enquanto várias autoridades internacionais enviaram mensagens de solidariedade.\"\n",
    "print(A)\n",
    "\n",
    "A_corr = A.replace(\",\", \"\").replace(\".\", \"\").replace(\"(\", \"\").replace(\")\", \"\").replace(\";\", \"\").replace(\"º\",\"\")\n",
    "\n",
    "A_corr"
   ]
  },
  {
   "cell_type": "code",
   "execution_count": 98,
   "metadata": {
    "slideshow": {
     "slide_type": "slide"
    }
   },
   "outputs": [
    {
     "data": {
      "text/plain": [
       "['INCÊNDIO', 'PEDRÓGÃO', 'GRANDE', 'CONCELHO']"
      ]
     },
     "execution_count": 98,
     "metadata": {},
     "output_type": "execute_result"
    }
   ],
   "source": [
    "A = \"O incêndio florestal de Pedrógão Grande deflagrou a 17 de junho de 2017 no concelho de Pedrógão Grande, no distrito de Leiria, em Portugal, tendo alastrado aos concelhos vizinhos de Castanheira de Pêra, Figueiró dos Vinhos, Ansião e Alvaiázere (também distrito de Leiria); ao concelho da Sertã (distrito de Castelo Branco); ao concelho de Pampilhosa da Serra (distrito de Coimbra). No mesmo dia deflagrou outro incêndio de grandes proporções no concelho de Góis, distrito de Coimbra, que acabou posteriormente por alastrar aos concelhos de Pampilhosa da Serra e de Arganil. No dia 20 de Junho de 2017 uma das frentes de fogo do incêndio de Pedrógão Grande juntou-se ao incêndio de Góis, formando uma área ardida contígua. O desastre é o maior incêndio florestal de sempre em Portugal, o mais mortífero da história do país e o 11.º mais mortífero a nível mundial desde 1900. Um balanço provisório contabilizou 64 mortos (63 civis e 1 bombeiro voluntário de Castanheira de Pera) e 254 feridos (241 civis, 12 bombeiros e 1 militar da Guarda Nacional Republicana), dos quais 7 em estado grave (4 bombeiros, 2 civis e 1 criança). Entre as vítimas mortais, 47 foram encontradas nas estradas do concelho de Pedrógão Grande, tendo 30 morrido nos automóveis e 17 nas suas imediações durante a fuga ao incêndio. O incêndio também arrasou dezenas de lugares. O nº oficial é de 64 mortos. Em termos de prejuízos materiais, foram contabilizadas mais de 500 casas de habitação parcial ou totalmente destruídas pelo fogo. Foram também afectadas 48 empresas com 372 postos de trabalho. A estimativa provisória do montante total de prejuízos ascende a 500 milhões de euros. A causa apontada pelas autoridades foi trovoada seca que, conjugada com temperaturas muito elevadas (superiores a 40 graus Celsius) e vento muito intenso e variável, fez deflagrar e propagar rapidamente o fogo. No entanto, o presidente da Liga dos Bombeiros, Jaime Marta Soares, acredita que este incêndio não teve origem em causas naturais já que, segundo a perceção de alguns habitantes de Pedrógão Grande, o fogo já estaria ativo duas horas antes da altura em que ocorreu a trovoada seca nesta zona. A Procuradoria-Geral da República confirmou que o Ministério Público está a investigar as causas do incêndio. Como resposta à catástrofe, o governo de Portugal decretou três dias de luto nacional, de 18 a 20 de junho de 2017, enquanto várias autoridades internacionais enviaram mensagens de solidariedade.\"\n",
    "A = A.replace(\",\",\"\").replace(\".\",\"\").upper()\n",
    "B = A.split(\" \")\n",
    "\n",
    "C = {}\n",
    "for b in B:\n",
    "    if len(b) >=4 and not b.isdigit():\n",
    "        if b not in C.keys():\n",
    "            C[b] = 1\n",
    "        else:\n",
    "            C[b] += 1\n",
    "\n",
    "X = list(set(C.values()))\n",
    "X.sort(reverse=True)\n",
    "X[0:2]\n",
    "\n",
    "R = []\n",
    "for c in C.items():\n",
    "    if c[1] in X[0:2]:\n",
    "        R.append(c[0])  \n",
    "R\n",
    "            \n",
    "            \n",
    "#S = []\n",
    "#for s in list(C.items()):\n",
    "#    S.append((s[1], s[0]))\n",
    "    \n",
    "#S.sort(reverse=True)\n",
    "#S\n",
    "\n",
    "        \n",
    "\n",
    "    \n",
    "    \n",
    "#S = [(x,y) for y,x in C.items()]\n",
    "#S.sort(reverse=True)\n",
    "#S[0:2]\n",
    "\n",
    "# ---"
   ]
  },
  {
   "cell_type": "code",
   "execution_count": 90,
   "metadata": {
    "slideshow": {
     "slide_type": "slide"
    }
   },
   "outputs": [
    {
     "data": {
      "text/plain": [
       "{1, 2, 3, 4}"
      ]
     },
     "execution_count": 90,
     "metadata": {},
     "output_type": "execute_result"
    }
   ],
   "source": [
    "a = set([1,2,3,1])\n",
    "a.add(4)\n",
    "a"
   ]
  },
  {
   "cell_type": "code",
   "execution_count": 10,
   "metadata": {},
   "outputs": [
    {
     "name": "stdout",
     "output_type": "stream",
     "text": [
      "402\n"
     ]
    }
   ],
   "source": [
    "A_arr = A_corr.split(\" \")\n",
    "print(len(A_arr))"
   ]
  },
  {
   "cell_type": "code",
   "execution_count": 11,
   "metadata": {},
   "outputs": [
    {
     "data": {
      "text/plain": [
       "['O',\n",
       " 'incêndio',\n",
       " 'florestal',\n",
       " 'de',\n",
       " 'Pedrógão',\n",
       " 'Grande',\n",
       " 'deflagrou',\n",
       " 'a',\n",
       " '17',\n",
       " 'de']"
      ]
     },
     "execution_count": 11,
     "metadata": {},
     "output_type": "execute_result"
    }
   ],
   "source": [
    "A_arr[:10]"
   ]
  },
  {
   "cell_type": "code",
   "execution_count": 12,
   "metadata": {},
   "outputs": [
    {
     "data": {
      "text/plain": [
       "373"
      ]
     },
     "execution_count": 12,
     "metadata": {},
     "output_type": "execute_result"
    }
   ],
   "source": [
    "A_arr_corr = [a.strip().lower() for a in A_arr if a !=\"\" and not a.isdigit()]\n",
    "\n",
    "len(A_arr_corr)"
   ]
  },
  {
   "cell_type": "code",
   "execution_count": 13,
   "metadata": {
    "scrolled": false
   },
   "outputs": [
    {
     "data": {
      "text/plain": [
       "['o',\n",
       " 'incêndio',\n",
       " 'florestal',\n",
       " 'de',\n",
       " 'pedrógão',\n",
       " 'grande',\n",
       " 'deflagrou',\n",
       " 'a',\n",
       " 'de',\n",
       " 'junho']"
      ]
     },
     "execution_count": 13,
     "metadata": {},
     "output_type": "execute_result"
    }
   ],
   "source": [
    "A_arr_corr[:10]"
   ]
  },
  {
   "cell_type": "code",
   "execution_count": 17,
   "metadata": {},
   "outputs": [
    {
     "data": {
      "text/plain": [
       "{'a': 12,\n",
       " 'acabou': 1,\n",
       " 'acredita': 1,\n",
       " 'afectadas': 1,\n",
       " 'alastrado': 1,\n",
       " 'alastrar': 1,\n",
       " 'alguns': 1,\n",
       " 'altura': 1,\n",
       " 'alvaiázere': 1,\n",
       " 'ansião': 1,\n",
       " 'antes': 1,\n",
       " 'ao': 4,\n",
       " 'aos': 2,\n",
       " 'apontada': 1,\n",
       " 'ardida': 1,\n",
       " 'arganil': 1,\n",
       " 'arrasou': 1,\n",
       " 'as': 2,\n",
       " 'ascende': 1,\n",
       " 'ativo': 1,\n",
       " 'automóveis': 1,\n",
       " 'autoridades': 2,\n",
       " 'balanço': 1,\n",
       " 'bombeiro': 1,\n",
       " 'bombeiros': 3,\n",
       " 'branco': 1,\n",
       " 'casas': 1,\n",
       " 'castanheira': 2,\n",
       " 'castelo': 1,\n",
       " 'catástrofe': 1,\n",
       " 'causa': 1,\n",
       " 'causas': 2,\n",
       " 'celsius': 1,\n",
       " 'civis': 3,\n",
       " 'coimbra': 2,\n",
       " 'com': 2,\n",
       " 'como': 1,\n",
       " 'concelho': 5,\n",
       " 'concelhos': 2,\n",
       " 'confirmou': 1,\n",
       " 'conjugada': 1,\n",
       " 'contabilizadas': 1,\n",
       " 'contabilizou': 1,\n",
       " 'contígua': 1,\n",
       " 'criança': 1,\n",
       " 'da': 8,\n",
       " 'das': 1,\n",
       " 'de': 41,\n",
       " 'decretou': 1,\n",
       " 'deflagrar': 1,\n",
       " 'deflagrou': 2,\n",
       " 'desastre': 1,\n",
       " 'desde': 1,\n",
       " 'destruídas': 1,\n",
       " 'dezenas': 1,\n",
       " 'dia': 2,\n",
       " 'dias': 1,\n",
       " 'distrito': 5,\n",
       " 'do': 5,\n",
       " 'dos': 3,\n",
       " 'duas': 1,\n",
       " 'durante': 1,\n",
       " 'e': 11,\n",
       " 'elevadas': 1,\n",
       " 'em': 6,\n",
       " 'empresas': 1,\n",
       " 'encontradas': 1,\n",
       " 'enquanto': 1,\n",
       " 'entanto': 1,\n",
       " 'entre': 1,\n",
       " 'enviaram': 1,\n",
       " 'estado': 1,\n",
       " 'estaria': 1,\n",
       " 'este': 1,\n",
       " 'estimativa': 1,\n",
       " 'estradas': 1,\n",
       " 'está': 1,\n",
       " 'euros': 1,\n",
       " 'feridos': 1,\n",
       " 'fez': 1,\n",
       " 'figueiró': 1,\n",
       " 'florestal': 2,\n",
       " 'fogo': 4,\n",
       " 'foi': 1,\n",
       " 'foram': 3,\n",
       " 'formando': 1,\n",
       " 'frentes': 1,\n",
       " 'fuga': 1,\n",
       " 'governo': 1,\n",
       " 'grande': 5,\n",
       " 'grandes': 1,\n",
       " 'graus': 1,\n",
       " 'grave': 1,\n",
       " 'guarda': 1,\n",
       " 'góis': 2,\n",
       " 'habitantes': 1,\n",
       " 'habitação': 1,\n",
       " 'história': 1,\n",
       " 'horas': 1,\n",
       " 'imediações': 1,\n",
       " 'incêndio': 9,\n",
       " 'intenso': 1,\n",
       " 'internacionais': 1,\n",
       " 'investigar': 1,\n",
       " 'jaime': 1,\n",
       " 'junho': 3,\n",
       " 'juntou-se': 1,\n",
       " 'já': 2,\n",
       " 'leiria': 2,\n",
       " 'liga': 1,\n",
       " 'lugares': 1,\n",
       " 'luto': 1,\n",
       " 'maior': 1,\n",
       " 'mais': 3,\n",
       " 'marta': 1,\n",
       " 'materiais': 1,\n",
       " 'mensagens': 1,\n",
       " 'mesmo': 1,\n",
       " 'milhões': 1,\n",
       " 'militar': 1,\n",
       " 'ministério': 1,\n",
       " 'montante': 1,\n",
       " 'morrido': 1,\n",
       " 'mortais': 1,\n",
       " 'mortos': 2,\n",
       " 'mortífero': 2,\n",
       " 'muito': 2,\n",
       " 'mundial': 1,\n",
       " 'n': 1,\n",
       " 'nacional': 2,\n",
       " 'nas': 2,\n",
       " 'naturais': 1,\n",
       " 'nesta': 1,\n",
       " 'no': 6,\n",
       " 'nos': 1,\n",
       " 'não': 1,\n",
       " 'nível': 1,\n",
       " 'o': 12,\n",
       " 'ocorreu': 1,\n",
       " 'oficial': 1,\n",
       " 'origem': 1,\n",
       " 'ou': 1,\n",
       " 'outro': 1,\n",
       " 'pampilhosa': 2,\n",
       " 'parcial': 1,\n",
       " 'país': 1,\n",
       " 'pedrógão': 5,\n",
       " 'pelas': 1,\n",
       " 'pelo': 1,\n",
       " 'pera': 1,\n",
       " 'perceção': 1,\n",
       " 'por': 1,\n",
       " 'portugal': 3,\n",
       " 'posteriormente': 1,\n",
       " 'postos': 1,\n",
       " 'prejuízos': 2,\n",
       " 'presidente': 1,\n",
       " 'procuradoria-geral': 1,\n",
       " 'propagar': 1,\n",
       " 'proporções': 1,\n",
       " 'provisória': 1,\n",
       " 'provisório': 1,\n",
       " 'pêra': 1,\n",
       " 'público': 1,\n",
       " 'quais': 1,\n",
       " 'que': 6,\n",
       " 'rapidamente': 1,\n",
       " 'republicana': 1,\n",
       " 'república': 1,\n",
       " 'resposta': 1,\n",
       " 'seca': 2,\n",
       " 'segundo': 1,\n",
       " 'sempre': 1,\n",
       " 'serra': 2,\n",
       " 'sertã': 1,\n",
       " 'soares': 1,\n",
       " 'solidariedade': 1,\n",
       " 'suas': 1,\n",
       " 'superiores': 1,\n",
       " 'também': 3,\n",
       " 'temperaturas': 1,\n",
       " 'tendo': 2,\n",
       " 'termos': 1,\n",
       " 'teve': 1,\n",
       " 'total': 1,\n",
       " 'totalmente': 1,\n",
       " 'trabalho': 1,\n",
       " 'trovoada': 2,\n",
       " 'três': 1,\n",
       " 'um': 1,\n",
       " 'uma': 2,\n",
       " 'variável': 1,\n",
       " 'vento': 1,\n",
       " 'vinhos': 1,\n",
       " 'vizinhos': 1,\n",
       " 'voluntário': 1,\n",
       " 'várias': 1,\n",
       " 'vítimas': 1,\n",
       " 'zona': 1,\n",
       " 'à': 1,\n",
       " 'área': 1,\n",
       " 'é': 2}"
      ]
     },
     "execution_count": 17,
     "metadata": {},
     "output_type": "execute_result"
    }
   ],
   "source": [
    "A_arr_corr.sort()\n",
    "C = {}\n",
    "\n",
    "for i, _ in enumerate(A_arr_corr):\n",
    "    if A_arr_corr[i] not in C:\n",
    "        C[A_arr_corr[i]] = 1\n",
    "    else:\n",
    "        C[A_arr_corr[i]] += 1\n",
    "\n",
    "C"
   ]
  },
  {
   "cell_type": "markdown",
   "metadata": {},
   "source": [
    "### Vamos imaginar que gostaríamos de saber quais as 10 palavras mais usadas\n",
    "\n",
    "Método mais pesado:"
   ]
  },
  {
   "cell_type": "code",
   "execution_count": 231,
   "metadata": {},
   "outputs": [
    {
     "data": {
      "text/plain": [
       "[(41, 'de'),\n",
       " (12, 'o'),\n",
       " (12, 'a'),\n",
       " (11, 'e'),\n",
       " (9, 'incêndio'),\n",
       " (8, 'da'),\n",
       " (6, 'que'),\n",
       " (6, 'no'),\n",
       " (6, 'em'),\n",
       " (5, 'pedrógão'),\n",
       " (5, 'grande'),\n",
       " (5, 'do'),\n",
       " (5, 'distrito'),\n",
       " (5, 'concelho'),\n",
       " (4, 'fogo'),\n",
       " (4, 'ao'),\n",
       " (3, 'também'),\n",
       " (3, 'portugal'),\n",
       " (3, 'mais'),\n",
       " (3, 'junho'),\n",
       " (3, 'foram'),\n",
       " (3, 'dos'),\n",
       " (3, 'civis'),\n",
       " (3, 'bombeiros'),\n",
       " (2, 'é'),\n",
       " (2, 'uma'),\n",
       " (2, 'trovoada'),\n",
       " (2, 'tendo'),\n",
       " (2, 'serra'),\n",
       " (2, 'seca'),\n",
       " (2, 'prejuízos'),\n",
       " (2, 'pampilhosa'),\n",
       " (2, 'nas'),\n",
       " (2, 'nacional'),\n",
       " (2, 'muito'),\n",
       " (2, 'mortífero'),\n",
       " (2, 'mortos'),\n",
       " (2, 'leiria'),\n",
       " (2, 'já'),\n",
       " (2, 'góis'),\n",
       " (2, 'florestal'),\n",
       " (2, 'dia'),\n",
       " (2, 'deflagrou'),\n",
       " (2, 'concelhos'),\n",
       " (2, 'com'),\n",
       " (2, 'coimbra'),\n",
       " (2, 'causas'),\n",
       " (2, 'castanheira'),\n",
       " (2, 'autoridades'),\n",
       " (2, 'as'),\n",
       " (2, 'aos'),\n",
       " (1, 'área'),\n",
       " (1, 'à'),\n",
       " (1, 'zona'),\n",
       " (1, 'vítimas'),\n",
       " (1, 'várias'),\n",
       " (1, 'voluntário'),\n",
       " (1, 'vizinhos'),\n",
       " (1, 'vinhos'),\n",
       " (1, 'vento'),\n",
       " (1, 'variável'),\n",
       " (1, 'um'),\n",
       " (1, 'três'),\n",
       " (1, 'trabalho'),\n",
       " (1, 'totalmente'),\n",
       " (1, 'total'),\n",
       " (1, 'teve'),\n",
       " (1, 'termos'),\n",
       " (1, 'temperaturas'),\n",
       " (1, 'superiores'),\n",
       " (1, 'suas'),\n",
       " (1, 'solidariedade'),\n",
       " (1, 'soares'),\n",
       " (1, 'sertã'),\n",
       " (1, 'sempre'),\n",
       " (1, 'segundo'),\n",
       " (1, 'resposta'),\n",
       " (1, 'república'),\n",
       " (1, 'republicana'),\n",
       " (1, 'rapidamente'),\n",
       " (1, 'quais'),\n",
       " (1, 'público'),\n",
       " (1, 'pêra'),\n",
       " (1, 'provisório'),\n",
       " (1, 'provisória'),\n",
       " (1, 'proporções'),\n",
       " (1, 'propagar'),\n",
       " (1, 'procuradoria-geral'),\n",
       " (1, 'presidente'),\n",
       " (1, 'postos'),\n",
       " (1, 'posteriormente'),\n",
       " (1, 'por'),\n",
       " (1, 'perceção'),\n",
       " (1, 'pera'),\n",
       " (1, 'pelo'),\n",
       " (1, 'pelas'),\n",
       " (1, 'país'),\n",
       " (1, 'parcial'),\n",
       " (1, 'outro'),\n",
       " (1, 'ou'),\n",
       " (1, 'origem'),\n",
       " (1, 'oficial'),\n",
       " (1, 'ocorreu'),\n",
       " (1, 'nível'),\n",
       " (1, 'não'),\n",
       " (1, 'nos'),\n",
       " (1, 'nesta'),\n",
       " (1, 'naturais'),\n",
       " (1, 'n'),\n",
       " (1, 'mundial'),\n",
       " (1, 'mortais'),\n",
       " (1, 'morrido'),\n",
       " (1, 'montante'),\n",
       " (1, 'ministério'),\n",
       " (1, 'militar'),\n",
       " (1, 'milhões'),\n",
       " (1, 'mesmo'),\n",
       " (1, 'mensagens'),\n",
       " (1, 'materiais'),\n",
       " (1, 'marta'),\n",
       " (1, 'maior'),\n",
       " (1, 'luto'),\n",
       " (1, 'lugares'),\n",
       " (1, 'liga'),\n",
       " (1, 'juntou-se'),\n",
       " (1, 'jaime'),\n",
       " (1, 'investigar'),\n",
       " (1, 'internacionais'),\n",
       " (1, 'intenso'),\n",
       " (1, 'imediações'),\n",
       " (1, 'horas'),\n",
       " (1, 'história'),\n",
       " (1, 'habitação'),\n",
       " (1, 'habitantes'),\n",
       " (1, 'guarda'),\n",
       " (1, 'grave'),\n",
       " (1, 'graus'),\n",
       " (1, 'grandes'),\n",
       " (1, 'governo'),\n",
       " (1, 'fuga'),\n",
       " (1, 'frentes'),\n",
       " (1, 'formando'),\n",
       " (1, 'foi'),\n",
       " (1, 'figueiró'),\n",
       " (1, 'fez'),\n",
       " (1, 'feridos'),\n",
       " (1, 'euros'),\n",
       " (1, 'está'),\n",
       " (1, 'estradas'),\n",
       " (1, 'estimativa'),\n",
       " (1, 'este'),\n",
       " (1, 'estaria'),\n",
       " (1, 'estado'),\n",
       " (1, 'enviaram'),\n",
       " (1, 'entre'),\n",
       " (1, 'entanto'),\n",
       " (1, 'enquanto'),\n",
       " (1, 'encontradas'),\n",
       " (1, 'empresas'),\n",
       " (1, 'elevadas'),\n",
       " (1, 'durante'),\n",
       " (1, 'duas'),\n",
       " (1, 'dias'),\n",
       " (1, 'dezenas'),\n",
       " (1, 'destruídas'),\n",
       " (1, 'desde'),\n",
       " (1, 'desastre'),\n",
       " (1, 'deflagrar'),\n",
       " (1, 'decretou'),\n",
       " (1, 'das'),\n",
       " (1, 'criança'),\n",
       " (1, 'contígua'),\n",
       " (1, 'contabilizou'),\n",
       " (1, 'contabilizadas'),\n",
       " (1, 'conjugada'),\n",
       " (1, 'confirmou'),\n",
       " (1, 'como'),\n",
       " (1, 'celsius'),\n",
       " (1, 'causa'),\n",
       " (1, 'catástrofe'),\n",
       " (1, 'castelo'),\n",
       " (1, 'casas'),\n",
       " (1, 'branco'),\n",
       " (1, 'bombeiro'),\n",
       " (1, 'balanço'),\n",
       " (1, 'automóveis'),\n",
       " (1, 'ativo'),\n",
       " (1, 'ascende'),\n",
       " (1, 'arrasou'),\n",
       " (1, 'arganil'),\n",
       " (1, 'ardida'),\n",
       " (1, 'apontada'),\n",
       " (1, 'antes'),\n",
       " (1, 'ansião'),\n",
       " (1, 'alvaiázere'),\n",
       " (1, 'altura'),\n",
       " (1, 'alguns'),\n",
       " (1, 'alastrar'),\n",
       " (1, 'alastrado'),\n",
       " (1, 'afectadas'),\n",
       " (1, 'acredita'),\n",
       " (1, 'acabou')]"
      ]
     },
     "execution_count": 231,
     "metadata": {},
     "output_type": "execute_result"
    }
   ],
   "source": [
    "# que coisa manhosa... vamos ver como fazer isto com Pandas na proxima aula...\n",
    "D = [(v,k) for k,v in C.items()]\n",
    "\n",
    "D.sort(reverse=True)\n",
    "D"
   ]
  },
  {
   "cell_type": "markdown",
   "metadata": {
    "slideshow": {
     "slide_type": "slide"
    }
   },
   "source": [
    "---\n",
    "\n",
    "#### Problems in Big Data Scenario?\n",
    "\n",
    "---\n",
    "\n",
    "- If Initial File too large for memory?\n",
    "- If Initial File too large for memory and `<k,v`> too large for memory?\n",
    "- If Processing is too large for memory/CPU?"
   ]
  },
  {
   "cell_type": "markdown",
   "metadata": {},
   "source": [
    "# 2) Simple Average Calculation\n",
    "\n",
    "consider "
   ]
  },
  {
   "cell_type": "code",
   "execution_count": 18,
   "metadata": {},
   "outputs": [
    {
     "name": "stdout",
     "output_type": "stream",
     "text": [
      "[ 0.05394205  0.56777288  0.30193964  0.92661674  0.67625688  0.02032483\n",
      "  0.51885369  0.84144541  0.94744546  0.55222146]\n"
     ]
    },
    {
     "data": {
      "text/plain": [
       "0.53821149197147944"
      ]
     },
     "execution_count": 18,
     "metadata": {},
     "output_type": "execute_result"
    }
   ],
   "source": [
    "import numpy as np\n",
    "A = np.random.random([100,1])\n",
    "print(A[:10,0])\n",
    "\n",
    "A.mean()"
   ]
  },
  {
   "cell_type": "code",
   "execution_count": 19,
   "metadata": {
    "slideshow": {
     "slide_type": "slide"
    }
   },
   "outputs": [
    {
     "data": {
      "text/plain": [
       "0.53821149197147955"
      ]
     },
     "execution_count": 19,
     "metadata": {},
     "output_type": "execute_result"
    }
   ],
   "source": [
    "#podemos recorrer à definição para fazer este processo em duas fazes\n",
    "\n",
    "####\n",
    "# Parallel!\n",
    "ct=0\n",
    "sm = 0\n",
    "for a in A[:,0]:\n",
    "    ct += 1\n",
    "    sm += a\n",
    "    \n",
    "#######\n",
    "\n",
    "sm/ct  # Parallel?"
   ]
  }
 ],
 "metadata": {
  "celltoolbar": "Slideshow",
  "kernelspec": {
   "display_name": "Python 3",
   "language": "python",
   "name": "python3"
  },
  "language_info": {
   "codemirror_mode": {
    "name": "ipython",
    "version": 3
   },
   "file_extension": ".py",
   "mimetype": "text/x-python",
   "name": "python",
   "nbconvert_exporter": "python",
   "pygments_lexer": "ipython3",
   "version": "3.6.0"
  }
 },
 "nbformat": 4,
 "nbformat_minor": 2
}
