{
 "cells": [
  {
   "cell_type": "code",
   "execution_count": 12,
   "metadata": {},
   "outputs": [
    {
     "data": {
      "text/plain": [
       "1"
      ]
     },
     "execution_count": 12,
     "metadata": {},
     "output_type": "execute_result"
    }
   ],
   "source": [
    "open = {'(','{','['}\n",
    "close = {')','}',']'}\n",
    "direita_esquerda = {')':'(','}':'{',']':'['}\n",
    "\n",
    "def solution(S):\n",
    "    y = []\n",
    "    for char in S:\n",
    "        if char in open:\n",
    "            y.append(char)\n",
    "        elif char in close:\n",
    "            if not y or y.pop() != direita_esquerda[char]:\n",
    "                return 0\n",
    "    \n",
    "    if y:\n",
    "        return 0\n",
    "    return 1\n",
    "\n",
    "S = \"{}\"\n",
    "\n",
    "solution(S)"
   ]
  },
  {
   "cell_type": "code",
   "execution_count": null,
   "metadata": {},
   "outputs": [],
   "source": []
  }
 ],
 "metadata": {
  "kernelspec": {
   "display_name": "SADenv",
   "language": "python",
   "name": "sadenv"
  },
  "language_info": {
   "codemirror_mode": {
    "name": "ipython",
    "version": 3
   },
   "file_extension": ".py",
   "mimetype": "text/x-python",
   "name": "python",
   "nbconvert_exporter": "python",
   "pygments_lexer": "ipython3",
   "version": "3.6.0"
  }
 },
 "nbformat": 4,
 "nbformat_minor": 2
}
